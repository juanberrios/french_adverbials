{
 "cells": [
  {
   "cell_type": "markdown",
   "metadata": {},
   "source": [
    "# Adjective position rates in a corpus of Argentinean Spanish\n",
    "Juan Berrios | juanberrios@pitt.edu | Last updated: October 4, 2020"
   ]
  },
  {
   "cell_type": "markdown",
   "metadata": {},
   "source": [
    "**Summary and overview of the data:**"
   ]
  },
  {
   "cell_type": "markdown",
   "metadata": {},
   "source": [
    "- This is a continuation of a prior corpus processing notebook. The purpose of this notebook is to extract adjective position usage rates in the previously processed subset of data."
   ]
  },
  {
   "cell_type": "markdown",
   "metadata": {},
   "source": [
    "**Contents:**\n",
    "1. [Preparation](#1.-Preparation)  includes the necessary preparations.\n",
    "2. [Loading files](#2.-Loading-files)  includes code for loading the files and examining them.\n",
    "3. [Adjective position rates](#3.-Adjective-position-rates)  includes code for extracting position rates for the adjective lexemes under study.\n",
    "4. [Plotting](#4.-Plotting)  includes code for data visualization."
   ]
  },
  {
   "cell_type": "markdown",
   "metadata": {},
   "source": [
    "## 1. Preparation"
   ]
  },
  {
   "cell_type": "markdown",
   "metadata": {},
   "source": [
    "- Loading libraries and additional settings:"
   ]
  },
  {
   "cell_type": "code",
   "execution_count": 1,
   "metadata": {},
   "outputs": [
    {
     "name": "stdout",
     "output_type": "stream",
     "text": [
      "Pretty printing has been turned OFF\n"
     ]
    }
   ],
   "source": [
    "#Importing libraries\n",
    "import pandas as pd\n",
    "import numpy as np\n",
    "import os\n",
    "import matplotlib\n",
    "import matplotlib.pyplot as plt\n",
    "\n",
    "# Settings for plotting\n",
    "\n",
    "matplotlib.rcParams['font.sans-serif'] = \"Century Gothic\"\n",
    "matplotlib.rcParams['font.family'] = \"sans-serif\"\n",
    "matplotlib.rcParams['axes.titlesize'] = 16\n",
    "matplotlib.rcParams['axes.labelsize'] = 14\n",
    "\n",
    "#Turning pretty print off:\n",
    "%pprint\n",
    "\n",
    "#Releasing all output:                                            \n",
    "from IPython.core.interactiveshell import InteractiveShell #Prints all commands rather than the last one.\n",
    "InteractiveShell.ast_node_interactivity = \"all\""
   ]
  },
  {
   "cell_type": "markdown",
   "metadata": {},
   "source": [
    "## 2. Loading files"
   ]
  },
  {
   "cell_type": "markdown",
   "metadata": {},
   "source": [
    "- Loading pickled file:"
   ]
  },
  {
   "cell_type": "code",
   "execution_count": 2,
   "metadata": {},
   "outputs": [
    {
     "data": {
      "text/plain": [
       "(374161, 10)"
      ]
     },
     "execution_count": 2,
     "metadata": {},
     "output_type": "execute_result"
    }
   ],
   "source": [
    "ar_df = pd.read_pickle('pkl/ar_DF.pkl')\n",
    "ar_df.shape"
   ]
  },
  {
   "cell_type": "markdown",
   "metadata": {},
   "source": [
    "- Some extra cleaning tasks before analysis. First, removing 'Buenos Aires' tokens:"
   ]
  },
  {
   "cell_type": "code",
   "execution_count": 3,
   "metadata": {},
   "outputs": [],
   "source": [
    "#Lowercasing\n",
    "\n",
    "ar_df['Word'] = ar_df['Word'].str.lower()\n",
    "ar_df['Following_word'] = ar_df['Following_word'].str.lower()\n",
    "ar_df['Previous_word'] = ar_df['Previous_word'].str.lower()"
   ]
  },
  {
   "cell_type": "code",
   "execution_count": 4,
   "metadata": {},
   "outputs": [],
   "source": [
    "#Filtering out \"Buenos Aires\"\n",
    "\n",
    "ar_df = ar_df[(ar_df['Following_word'] != 'aires') & (ar_df['Word'] != 'buenos')]"
   ]
  },
  {
   "cell_type": "markdown",
   "metadata": {},
   "source": [
    "- Now let's try solving the mystery of the unknowns:"
   ]
  },
  {
   "cell_type": "code",
   "execution_count": 5,
   "metadata": {},
   "outputs": [],
   "source": [
    "untagged = ar_df[ar_df['Number'] == 'unknown'] #Extract untagged"
   ]
  },
  {
   "cell_type": "code",
   "execution_count": 6,
   "metadata": {},
   "outputs": [
    {
     "data": {
      "text/plain": [
       "(127438, 10)"
      ]
     },
     "execution_count": 6,
     "metadata": {},
     "output_type": "execute_result"
    }
   ],
   "source": [
    "untagged.shape"
   ]
  },
  {
   "cell_type": "code",
   "execution_count": 7,
   "metadata": {},
   "outputs": [],
   "source": [
    "ar_df = ar_df[ar_df['Number'] != 'unknown']"
   ]
  },
  {
   "cell_type": "code",
   "execution_count": 8,
   "metadata": {},
   "outputs": [
    {
     "data": {
      "text/plain": [
       "(233253, 10)"
      ]
     },
     "execution_count": 8,
     "metadata": {},
     "output_type": "execute_result"
    }
   ],
   "source": [
    "ar_df.shape"
   ]
  },
  {
   "cell_type": "code",
   "execution_count": 9,
   "metadata": {},
   "outputs": [
    {
     "data": {
      "text/plain": [
       "array(['gran', 'buen', 'nueva', 'buena', 'nuevo', 'nuevas', 'rudo',\n",
       "       'nova', 'frescas', 'fresca', 'novo', 'bue', 'rudos', 'wena',\n",
       "       'granes', 'bueno', 'weno', 'buens', 'nevo', 'nuevass'],\n",
       "      dtype=object)"
      ]
     },
     "execution_count": 9,
     "metadata": {},
     "output_type": "execute_result"
    }
   ],
   "source": [
    "untagged['Word'].unique() #Individual words that we can extract grammatical information from"
   ]
  },
  {
   "cell_type": "code",
   "execution_count": 10,
   "metadata": {},
   "outputs": [],
   "source": [
    "misspelled = ['nova',  'novo', 'bue',  'wena','granes','weno', 'buens', 'nevo', 'nuevass']"
   ]
  },
  {
   "cell_type": "code",
   "execution_count": 11,
   "metadata": {},
   "outputs": [],
   "source": [
    "untagged = untagged[~untagged['Word'].isin(misspelled)] #Removing misspelled forms. There's only a few of them. "
   ]
  },
  {
   "cell_type": "code",
   "execution_count": 12,
   "metadata": {},
   "outputs": [],
   "source": [
    "number_dict = {'gran':'singular', 'buen':'singular', 'nueva':'singular', 'buena':'singular', 'nuevo':'singular',\n",
    "               'nuevas':'plural', 'rudo':'singular', 'frescas':'plural', 'fresca':'singular', 'rudos':'plural',\n",
    "               'bueno':'singular'}"
   ]
  },
  {
   "cell_type": "code",
   "execution_count": 13,
   "metadata": {},
   "outputs": [],
   "source": [
    "untagged['Number'] = untagged['Word'].map(number_dict) #Map new values"
   ]
  },
  {
   "cell_type": "code",
   "execution_count": 14,
   "metadata": {},
   "outputs": [],
   "source": [
    "df = pd.concat([ar_df, untagged], sort=True) #Putting both data frames back together"
   ]
  },
  {
   "cell_type": "code",
   "execution_count": 15,
   "metadata": {},
   "outputs": [
    {
     "data": {
      "text/html": [
       "<div>\n",
       "<style scoped>\n",
       "    .dataframe tbody tr th:only-of-type {\n",
       "        vertical-align: middle;\n",
       "    }\n",
       "\n",
       "    .dataframe tbody tr th {\n",
       "        vertical-align: top;\n",
       "    }\n",
       "\n",
       "    .dataframe thead th {\n",
       "        text-align: right;\n",
       "    }\n",
       "</style>\n",
       "<table border=\"1\" class=\"dataframe\">\n",
       "  <thead>\n",
       "    <tr style=\"text-align: right;\">\n",
       "      <th></th>\n",
       "      <th>Following_POS</th>\n",
       "      <th>Following_word</th>\n",
       "      <th>Lemma</th>\n",
       "      <th>Number</th>\n",
       "      <th>POS</th>\n",
       "      <th>Previous_POS</th>\n",
       "      <th>Previous_word</th>\n",
       "      <th>SourceID</th>\n",
       "      <th>TokenID</th>\n",
       "      <th>Word</th>\n",
       "    </tr>\n",
       "  </thead>\n",
       "  <tbody>\n",
       "    <tr>\n",
       "      <th>2171</th>\n",
       "      <td>nms</td>\n",
       "      <td>integrante</td>\n",
       "      <td>nuevo</td>\n",
       "      <td>singular</td>\n",
       "      <td>jfs</td>\n",
       "      <td>ld-fs</td>\n",
       "      <td>la</td>\n",
       "      <td>30</td>\n",
       "      <td>2245675103</td>\n",
       "      <td>nueva</td>\n",
       "    </tr>\n",
       "    <tr>\n",
       "      <th>2647</th>\n",
       "      <td>nfs</td>\n",
       "      <td>pareja</td>\n",
       "      <td>nuevo</td>\n",
       "      <td>singular</td>\n",
       "      <td>jfs</td>\n",
       "      <td>li-fs</td>\n",
       "      <td>una</td>\n",
       "      <td>30</td>\n",
       "      <td>2245675579</td>\n",
       "      <td>nueva</td>\n",
       "    </tr>\n",
       "    <tr>\n",
       "      <th>2861</th>\n",
       "      <td>nfs</td>\n",
       "      <td>onda</td>\n",
       "      <td>bueno</td>\n",
       "      <td>singular</td>\n",
       "      <td>jfs</td>\n",
       "      <td>ld-fs</td>\n",
       "      <td>la</td>\n",
       "      <td>30</td>\n",
       "      <td>2245675793</td>\n",
       "      <td>buena</td>\n",
       "    </tr>\n",
       "    <tr>\n",
       "      <th>3415</th>\n",
       "      <td>nms</td>\n",
       "      <td>representante</td>\n",
       "      <td>nuevo</td>\n",
       "      <td>singular</td>\n",
       "      <td>jms</td>\n",
       "      <td>dp-</td>\n",
       "      <td>su</td>\n",
       "      <td>40</td>\n",
       "      <td>2407904224</td>\n",
       "      <td>nuevo</td>\n",
       "    </tr>\n",
       "    <tr>\n",
       "      <th>4624</th>\n",
       "      <td>nmp</td>\n",
       "      <td>diarios</td>\n",
       "      <td>grande</td>\n",
       "      <td>plural</td>\n",
       "      <td>jmp</td>\n",
       "      <td>ld-mp</td>\n",
       "      <td>los</td>\n",
       "      <td>40</td>\n",
       "      <td>2407905433</td>\n",
       "      <td>grandes</td>\n",
       "    </tr>\n",
       "    <tr>\n",
       "      <th>...</th>\n",
       "      <td>...</td>\n",
       "      <td>...</td>\n",
       "      <td>...</td>\n",
       "      <td>...</td>\n",
       "      <td>...</td>\n",
       "      <td>...</td>\n",
       "      <td>...</td>\n",
       "      <td>...</td>\n",
       "      <td>...</td>\n",
       "      <td>...</td>\n",
       "    </tr>\n",
       "    <tr>\n",
       "      <th>10440267</th>\n",
       "      <td>nms</td>\n",
       "      <td>partido</td>\n",
       "      <td>bueno</td>\n",
       "      <td>singular</td>\n",
       "      <td>j</td>\n",
       "      <td>li-ms</td>\n",
       "      <td>un</td>\n",
       "      <td>1405689</td>\n",
       "      <td>1898822123</td>\n",
       "      <td>buen</td>\n",
       "    </tr>\n",
       "    <tr>\n",
       "      <th>10440322</th>\n",
       "      <td>nms</td>\n",
       "      <td>resultado</td>\n",
       "      <td>bueno</td>\n",
       "      <td>singular</td>\n",
       "      <td>j</td>\n",
       "      <td>li-ms</td>\n",
       "      <td>un</td>\n",
       "      <td>1405689</td>\n",
       "      <td>1898822178</td>\n",
       "      <td>buen</td>\n",
       "    </tr>\n",
       "    <tr>\n",
       "      <th>10441803</th>\n",
       "      <td>nms</td>\n",
       "      <td>esfuerzo</td>\n",
       "      <td>grande</td>\n",
       "      <td>singular</td>\n",
       "      <td>j</td>\n",
       "      <td>li-ms</td>\n",
       "      <td>un</td>\n",
       "      <td>1405719</td>\n",
       "      <td>1907146676</td>\n",
       "      <td>gran</td>\n",
       "    </tr>\n",
       "    <tr>\n",
       "      <th>10442385</th>\n",
       "      <td>nms</td>\n",
       "      <td>comienzo</td>\n",
       "      <td>bueno</td>\n",
       "      <td>singular</td>\n",
       "      <td>j</td>\n",
       "      <td>li-ms</td>\n",
       "      <td>un</td>\n",
       "      <td>1405729</td>\n",
       "      <td>1909545195</td>\n",
       "      <td>buen</td>\n",
       "    </tr>\n",
       "    <tr>\n",
       "      <th>10442795</th>\n",
       "      <td>nms</td>\n",
       "      <td>parte</td>\n",
       "      <td>grande</td>\n",
       "      <td>singular</td>\n",
       "      <td>j</td>\n",
       "      <td>vis-3p</td>\n",
       "      <td>forjaron</td>\n",
       "      <td>1405749</td>\n",
       "      <td>1914742158</td>\n",
       "      <td>gran</td>\n",
       "    </tr>\n",
       "  </tbody>\n",
       "</table>\n",
       "<p>360556 rows × 10 columns</p>\n",
       "</div>"
      ],
      "text/plain": [
       "         Following_POS Following_word   Lemma    Number  POS Previous_POS  \\\n",
       "2171               nms     integrante   nuevo  singular  jfs        ld-fs   \n",
       "2647               nfs         pareja   nuevo  singular  jfs        li-fs   \n",
       "2861               nfs           onda   bueno  singular  jfs        ld-fs   \n",
       "3415               nms  representante   nuevo  singular  jms          dp-   \n",
       "4624               nmp        diarios  grande    plural  jmp        ld-mp   \n",
       "...                ...            ...     ...       ...  ...          ...   \n",
       "10440267           nms        partido   bueno  singular    j        li-ms   \n",
       "10440322           nms      resultado   bueno  singular    j        li-ms   \n",
       "10441803           nms       esfuerzo  grande  singular    j        li-ms   \n",
       "10442385           nms       comienzo   bueno  singular    j        li-ms   \n",
       "10442795           nms          parte  grande  singular    j       vis-3p   \n",
       "\n",
       "         Previous_word SourceID     TokenID     Word  \n",
       "2171                la       30  2245675103    nueva  \n",
       "2647               una       30  2245675579    nueva  \n",
       "2861                la       30  2245675793    buena  \n",
       "3415                su       40  2407904224    nuevo  \n",
       "4624               los       40  2407905433  grandes  \n",
       "...                ...      ...         ...      ...  \n",
       "10440267            un  1405689  1898822123     buen  \n",
       "10440322            un  1405689  1898822178     buen  \n",
       "10441803            un  1405719  1907146676     gran  \n",
       "10442385            un  1405729  1909545195     buen  \n",
       "10442795      forjaron  1405749  1914742158     gran  \n",
       "\n",
       "[360556 rows x 10 columns]"
      ]
     },
     "execution_count": 15,
     "metadata": {},
     "output_type": "execute_result"
    }
   ],
   "source": [
    "df"
   ]
  },
  {
   "cell_type": "markdown",
   "metadata": {},
   "source": [
    "## 3. Adjective position rates"
   ]
  },
  {
   "cell_type": "markdown",
   "metadata": {},
   "source": [
    "- Let's first add a position to every row based on whether the POS following the token is a noun or not:"
   ]
  },
  {
   "cell_type": "code",
   "execution_count": 16,
   "metadata": {},
   "outputs": [],
   "source": [
    "#If the following word is a noun, tag prenominal, tag postnominal otherwise.\n",
    "\n",
    "df['Position'] = np.where(df['Following_POS'].str.contains('n'), 'prenominal', 'postnominal')"
   ]
  },
  {
   "cell_type": "code",
   "execution_count": 17,
   "metadata": {},
   "outputs": [
    {
     "data": {
      "text/html": [
       "<div>\n",
       "<style scoped>\n",
       "    .dataframe tbody tr th:only-of-type {\n",
       "        vertical-align: middle;\n",
       "    }\n",
       "\n",
       "    .dataframe tbody tr th {\n",
       "        vertical-align: top;\n",
       "    }\n",
       "\n",
       "    .dataframe thead th {\n",
       "        text-align: right;\n",
       "    }\n",
       "</style>\n",
       "<table border=\"1\" class=\"dataframe\">\n",
       "  <thead>\n",
       "    <tr style=\"text-align: right;\">\n",
       "      <th></th>\n",
       "      <th>Following_POS</th>\n",
       "      <th>Following_word</th>\n",
       "      <th>Lemma</th>\n",
       "      <th>Number</th>\n",
       "      <th>POS</th>\n",
       "      <th>Previous_POS</th>\n",
       "      <th>Previous_word</th>\n",
       "      <th>SourceID</th>\n",
       "      <th>TokenID</th>\n",
       "      <th>Word</th>\n",
       "      <th>Position</th>\n",
       "    </tr>\n",
       "  </thead>\n",
       "  <tbody>\n",
       "    <tr>\n",
       "      <th>2171</th>\n",
       "      <td>nms</td>\n",
       "      <td>integrante</td>\n",
       "      <td>nuevo</td>\n",
       "      <td>singular</td>\n",
       "      <td>jfs</td>\n",
       "      <td>ld-fs</td>\n",
       "      <td>la</td>\n",
       "      <td>30</td>\n",
       "      <td>2245675103</td>\n",
       "      <td>nueva</td>\n",
       "      <td>prenominal</td>\n",
       "    </tr>\n",
       "    <tr>\n",
       "      <th>2647</th>\n",
       "      <td>nfs</td>\n",
       "      <td>pareja</td>\n",
       "      <td>nuevo</td>\n",
       "      <td>singular</td>\n",
       "      <td>jfs</td>\n",
       "      <td>li-fs</td>\n",
       "      <td>una</td>\n",
       "      <td>30</td>\n",
       "      <td>2245675579</td>\n",
       "      <td>nueva</td>\n",
       "      <td>prenominal</td>\n",
       "    </tr>\n",
       "    <tr>\n",
       "      <th>2861</th>\n",
       "      <td>nfs</td>\n",
       "      <td>onda</td>\n",
       "      <td>bueno</td>\n",
       "      <td>singular</td>\n",
       "      <td>jfs</td>\n",
       "      <td>ld-fs</td>\n",
       "      <td>la</td>\n",
       "      <td>30</td>\n",
       "      <td>2245675793</td>\n",
       "      <td>buena</td>\n",
       "      <td>prenominal</td>\n",
       "    </tr>\n",
       "    <tr>\n",
       "      <th>3415</th>\n",
       "      <td>nms</td>\n",
       "      <td>representante</td>\n",
       "      <td>nuevo</td>\n",
       "      <td>singular</td>\n",
       "      <td>jms</td>\n",
       "      <td>dp-</td>\n",
       "      <td>su</td>\n",
       "      <td>40</td>\n",
       "      <td>2407904224</td>\n",
       "      <td>nuevo</td>\n",
       "      <td>prenominal</td>\n",
       "    </tr>\n",
       "    <tr>\n",
       "      <th>4624</th>\n",
       "      <td>nmp</td>\n",
       "      <td>diarios</td>\n",
       "      <td>grande</td>\n",
       "      <td>plural</td>\n",
       "      <td>jmp</td>\n",
       "      <td>ld-mp</td>\n",
       "      <td>los</td>\n",
       "      <td>40</td>\n",
       "      <td>2407905433</td>\n",
       "      <td>grandes</td>\n",
       "      <td>prenominal</td>\n",
       "    </tr>\n",
       "    <tr>\n",
       "      <th>...</th>\n",
       "      <td>...</td>\n",
       "      <td>...</td>\n",
       "      <td>...</td>\n",
       "      <td>...</td>\n",
       "      <td>...</td>\n",
       "      <td>...</td>\n",
       "      <td>...</td>\n",
       "      <td>...</td>\n",
       "      <td>...</td>\n",
       "      <td>...</td>\n",
       "      <td>...</td>\n",
       "    </tr>\n",
       "    <tr>\n",
       "      <th>10440267</th>\n",
       "      <td>nms</td>\n",
       "      <td>partido</td>\n",
       "      <td>bueno</td>\n",
       "      <td>singular</td>\n",
       "      <td>j</td>\n",
       "      <td>li-ms</td>\n",
       "      <td>un</td>\n",
       "      <td>1405689</td>\n",
       "      <td>1898822123</td>\n",
       "      <td>buen</td>\n",
       "      <td>prenominal</td>\n",
       "    </tr>\n",
       "    <tr>\n",
       "      <th>10440322</th>\n",
       "      <td>nms</td>\n",
       "      <td>resultado</td>\n",
       "      <td>bueno</td>\n",
       "      <td>singular</td>\n",
       "      <td>j</td>\n",
       "      <td>li-ms</td>\n",
       "      <td>un</td>\n",
       "      <td>1405689</td>\n",
       "      <td>1898822178</td>\n",
       "      <td>buen</td>\n",
       "      <td>prenominal</td>\n",
       "    </tr>\n",
       "    <tr>\n",
       "      <th>10441803</th>\n",
       "      <td>nms</td>\n",
       "      <td>esfuerzo</td>\n",
       "      <td>grande</td>\n",
       "      <td>singular</td>\n",
       "      <td>j</td>\n",
       "      <td>li-ms</td>\n",
       "      <td>un</td>\n",
       "      <td>1405719</td>\n",
       "      <td>1907146676</td>\n",
       "      <td>gran</td>\n",
       "      <td>prenominal</td>\n",
       "    </tr>\n",
       "    <tr>\n",
       "      <th>10442385</th>\n",
       "      <td>nms</td>\n",
       "      <td>comienzo</td>\n",
       "      <td>bueno</td>\n",
       "      <td>singular</td>\n",
       "      <td>j</td>\n",
       "      <td>li-ms</td>\n",
       "      <td>un</td>\n",
       "      <td>1405729</td>\n",
       "      <td>1909545195</td>\n",
       "      <td>buen</td>\n",
       "      <td>prenominal</td>\n",
       "    </tr>\n",
       "    <tr>\n",
       "      <th>10442795</th>\n",
       "      <td>nms</td>\n",
       "      <td>parte</td>\n",
       "      <td>grande</td>\n",
       "      <td>singular</td>\n",
       "      <td>j</td>\n",
       "      <td>vis-3p</td>\n",
       "      <td>forjaron</td>\n",
       "      <td>1405749</td>\n",
       "      <td>1914742158</td>\n",
       "      <td>gran</td>\n",
       "      <td>prenominal</td>\n",
       "    </tr>\n",
       "  </tbody>\n",
       "</table>\n",
       "<p>360556 rows × 11 columns</p>\n",
       "</div>"
      ],
      "text/plain": [
       "         Following_POS Following_word   Lemma    Number  POS Previous_POS  \\\n",
       "2171               nms     integrante   nuevo  singular  jfs        ld-fs   \n",
       "2647               nfs         pareja   nuevo  singular  jfs        li-fs   \n",
       "2861               nfs           onda   bueno  singular  jfs        ld-fs   \n",
       "3415               nms  representante   nuevo  singular  jms          dp-   \n",
       "4624               nmp        diarios  grande    plural  jmp        ld-mp   \n",
       "...                ...            ...     ...       ...  ...          ...   \n",
       "10440267           nms        partido   bueno  singular    j        li-ms   \n",
       "10440322           nms      resultado   bueno  singular    j        li-ms   \n",
       "10441803           nms       esfuerzo  grande  singular    j        li-ms   \n",
       "10442385           nms       comienzo   bueno  singular    j        li-ms   \n",
       "10442795           nms          parte  grande  singular    j       vis-3p   \n",
       "\n",
       "         Previous_word SourceID     TokenID     Word    Position  \n",
       "2171                la       30  2245675103    nueva  prenominal  \n",
       "2647               una       30  2245675579    nueva  prenominal  \n",
       "2861                la       30  2245675793    buena  prenominal  \n",
       "3415                su       40  2407904224    nuevo  prenominal  \n",
       "4624               los       40  2407905433  grandes  prenominal  \n",
       "...                ...      ...         ...      ...         ...  \n",
       "10440267            un  1405689  1898822123     buen  prenominal  \n",
       "10440322            un  1405689  1898822178     buen  prenominal  \n",
       "10441803            un  1405719  1907146676     gran  prenominal  \n",
       "10442385            un  1405729  1909545195     buen  prenominal  \n",
       "10442795      forjaron  1405749  1914742158     gran  prenominal  \n",
       "\n",
       "[360556 rows x 11 columns]"
      ]
     },
     "execution_count": 17,
     "metadata": {},
     "output_type": "execute_result"
    }
   ],
   "source": [
    "df #Preview"
   ]
  },
  {
   "cell_type": "code",
   "execution_count": 18,
   "metadata": {},
   "outputs": [
    {
     "name": "stdout",
     "output_type": "stream",
     "text": [
      "<class 'pandas.core.frame.DataFrame'>\n",
      "Int64Index: 360556 entries, 2171 to 10442795\n",
      "Data columns (total 11 columns):\n",
      " #   Column          Non-Null Count   Dtype \n",
      "---  ------          --------------   ----- \n",
      " 0   Following_POS   360556 non-null  object\n",
      " 1   Following_word  360556 non-null  object\n",
      " 2   Lemma           360556 non-null  object\n",
      " 3   Number          360556 non-null  object\n",
      " 4   POS             360556 non-null  object\n",
      " 5   Previous_POS    360556 non-null  object\n",
      " 6   Previous_word   360556 non-null  object\n",
      " 7   SourceID        360556 non-null  object\n",
      " 8   TokenID         360556 non-null  object\n",
      " 9   Word            360556 non-null  object\n",
      " 10  Position        360556 non-null  object\n",
      "dtypes: object(11)\n",
      "memory usage: 33.0+ MB\n"
     ]
    }
   ],
   "source": [
    "df.info() #Some general information about the resulting data frame"
   ]
  },
  {
   "cell_type": "code",
   "execution_count": 19,
   "metadata": {},
   "outputs": [],
   "source": [
    "#Creating a subset for plural forms only\n",
    "\n",
    "df_plural = df[(df['Number'] == 'plural')]"
   ]
  },
  {
   "cell_type": "code",
   "execution_count": 20,
   "metadata": {},
   "outputs": [
    {
     "data": {
      "text/html": [
       "<div>\n",
       "<style scoped>\n",
       "    .dataframe tbody tr th:only-of-type {\n",
       "        vertical-align: middle;\n",
       "    }\n",
       "\n",
       "    .dataframe tbody tr th {\n",
       "        vertical-align: top;\n",
       "    }\n",
       "\n",
       "    .dataframe thead th {\n",
       "        text-align: right;\n",
       "    }\n",
       "</style>\n",
       "<table border=\"1\" class=\"dataframe\">\n",
       "  <thead>\n",
       "    <tr style=\"text-align: right;\">\n",
       "      <th></th>\n",
       "      <th>Following_POS</th>\n",
       "      <th>Following_word</th>\n",
       "      <th>Lemma</th>\n",
       "      <th>Number</th>\n",
       "      <th>POS</th>\n",
       "      <th>Previous_POS</th>\n",
       "      <th>Previous_word</th>\n",
       "      <th>SourceID</th>\n",
       "      <th>TokenID</th>\n",
       "      <th>Word</th>\n",
       "      <th>Position</th>\n",
       "    </tr>\n",
       "  </thead>\n",
       "  <tbody>\n",
       "    <tr>\n",
       "      <th>count</th>\n",
       "      <td>360556</td>\n",
       "      <td>360556</td>\n",
       "      <td>360556</td>\n",
       "      <td>360556</td>\n",
       "      <td>360556</td>\n",
       "      <td>360556</td>\n",
       "      <td>360556</td>\n",
       "      <td>360556</td>\n",
       "      <td>360556</td>\n",
       "      <td>360556</td>\n",
       "      <td>360556</td>\n",
       "    </tr>\n",
       "    <tr>\n",
       "      <th>unique</th>\n",
       "      <td>108</td>\n",
       "      <td>18363</td>\n",
       "      <td>6</td>\n",
       "      <td>2</td>\n",
       "      <td>5</td>\n",
       "      <td>142</td>\n",
       "      <td>12431</td>\n",
       "      <td>102908</td>\n",
       "      <td>360556</td>\n",
       "      <td>23</td>\n",
       "      <td>2</td>\n",
       "    </tr>\n",
       "    <tr>\n",
       "      <th>top</th>\n",
       "      <td>nms</td>\n",
       "      <td>parte</td>\n",
       "      <td>nuevo</td>\n",
       "      <td>singular</td>\n",
       "      <td>j</td>\n",
       "      <td>li-ms</td>\n",
       "      <td>un</td>\n",
       "      <td>1399939</td>\n",
       "      <td>1059586047</td>\n",
       "      <td>gran</td>\n",
       "      <td>prenominal</td>\n",
       "    </tr>\n",
       "    <tr>\n",
       "      <th>freq</th>\n",
       "      <td>120320</td>\n",
       "      <td>7696</td>\n",
       "      <td>138690</td>\n",
       "      <td>264772</td>\n",
       "      <td>127303</td>\n",
       "      <td>52759</td>\n",
       "      <td>52778</td>\n",
       "      <td>1393</td>\n",
       "      <td>1</td>\n",
       "      <td>88668</td>\n",
       "      <td>328822</td>\n",
       "    </tr>\n",
       "  </tbody>\n",
       "</table>\n",
       "</div>"
      ],
      "text/plain": [
       "       Following_POS Following_word   Lemma    Number     POS Previous_POS  \\\n",
       "count         360556         360556  360556    360556  360556       360556   \n",
       "unique           108          18363       6         2       5          142   \n",
       "top              nms          parte   nuevo  singular       j        li-ms   \n",
       "freq          120320           7696  138690    264772  127303        52759   \n",
       "\n",
       "       Previous_word  SourceID     TokenID    Word    Position  \n",
       "count         360556    360556      360556  360556      360556  \n",
       "unique         12431    102908      360556      23           2  \n",
       "top               un   1399939  1059586047    gran  prenominal  \n",
       "freq           52778      1393           1   88668      328822  "
      ]
     },
     "execution_count": 20,
     "metadata": {},
     "output_type": "execute_result"
    }
   ],
   "source": [
    "df.describe() #Descriptive stats"
   ]
  },
  {
   "cell_type": "code",
   "execution_count": 21,
   "metadata": {},
   "outputs": [
    {
     "data": {
      "text/plain": [
       "nuevo     138690\n",
       "grande    127404\n",
       "bueno      91733\n",
       "fresco      2181\n",
       "llano        311\n",
       "rudo         237\n",
       "Name: Lemma, dtype: int64"
      ]
     },
     "execution_count": 21,
     "metadata": {},
     "output_type": "execute_result"
    }
   ],
   "source": [
    "df['Lemma'].value_counts() #Counts for position by lemma."
   ]
  },
  {
   "cell_type": "code",
   "execution_count": 22,
   "metadata": {},
   "outputs": [
    {
     "data": {
      "text/plain": [
       "postnominal     31734\n",
       "prenominal     328822\n",
       "Name: Position, dtype: int64"
      ]
     },
     "execution_count": 22,
     "metadata": {},
     "output_type": "execute_result"
    }
   ],
   "source": [
    "df['Position'].value_counts(ascending=True)   "
   ]
  },
  {
   "cell_type": "code",
   "execution_count": 23,
   "metadata": {},
   "outputs": [
    {
     "data": {
      "text/html": [
       "<div>\n",
       "<style scoped>\n",
       "    .dataframe tbody tr th:only-of-type {\n",
       "        vertical-align: middle;\n",
       "    }\n",
       "\n",
       "    .dataframe tbody tr th {\n",
       "        vertical-align: top;\n",
       "    }\n",
       "\n",
       "    .dataframe thead th {\n",
       "        text-align: right;\n",
       "    }\n",
       "</style>\n",
       "<table border=\"1\" class=\"dataframe\">\n",
       "  <thead>\n",
       "    <tr style=\"text-align: right;\">\n",
       "      <th>Position</th>\n",
       "      <th>postnominal</th>\n",
       "      <th>prenominal</th>\n",
       "    </tr>\n",
       "    <tr>\n",
       "      <th>Lemma</th>\n",
       "      <th></th>\n",
       "      <th></th>\n",
       "    </tr>\n",
       "  </thead>\n",
       "  <tbody>\n",
       "    <tr>\n",
       "      <th>bueno</th>\n",
       "      <td>5639</td>\n",
       "      <td>86094</td>\n",
       "    </tr>\n",
       "    <tr>\n",
       "      <th>fresco</th>\n",
       "      <td>1980</td>\n",
       "      <td>201</td>\n",
       "    </tr>\n",
       "    <tr>\n",
       "      <th>grande</th>\n",
       "      <td>8526</td>\n",
       "      <td>118878</td>\n",
       "    </tr>\n",
       "    <tr>\n",
       "      <th>llano</th>\n",
       "      <td>229</td>\n",
       "      <td>82</td>\n",
       "    </tr>\n",
       "    <tr>\n",
       "      <th>nuevo</th>\n",
       "      <td>15247</td>\n",
       "      <td>123443</td>\n",
       "    </tr>\n",
       "    <tr>\n",
       "      <th>rudo</th>\n",
       "      <td>113</td>\n",
       "      <td>124</td>\n",
       "    </tr>\n",
       "  </tbody>\n",
       "</table>\n",
       "</div>"
      ],
      "text/plain": [
       "Position  postnominal  prenominal\n",
       "Lemma                            \n",
       "bueno            5639       86094\n",
       "fresco           1980         201\n",
       "grande           8526      118878\n",
       "llano             229          82\n",
       "nuevo           15247      123443\n",
       "rudo              113         124"
      ]
     },
     "execution_count": 23,
     "metadata": {},
     "output_type": "execute_result"
    }
   ],
   "source": [
    "#Position by lemma in raw counts\n",
    "\n",
    "position_lemma_counts = df.groupby('Lemma').Position.value_counts().unstack()\n",
    "position_lemma_counts"
   ]
  },
  {
   "cell_type": "code",
   "execution_count": 24,
   "metadata": {},
   "outputs": [
    {
     "data": {
      "text/html": [
       "<div>\n",
       "<style scoped>\n",
       "    .dataframe tbody tr th:only-of-type {\n",
       "        vertical-align: middle;\n",
       "    }\n",
       "\n",
       "    .dataframe tbody tr th {\n",
       "        vertical-align: top;\n",
       "    }\n",
       "\n",
       "    .dataframe thead th {\n",
       "        text-align: right;\n",
       "    }\n",
       "</style>\n",
       "<table border=\"1\" class=\"dataframe\">\n",
       "  <thead>\n",
       "    <tr style=\"text-align: right;\">\n",
       "      <th>Position</th>\n",
       "      <th>postnominal</th>\n",
       "      <th>prenominal</th>\n",
       "    </tr>\n",
       "    <tr>\n",
       "      <th>Lemma</th>\n",
       "      <th></th>\n",
       "      <th></th>\n",
       "    </tr>\n",
       "  </thead>\n",
       "  <tbody>\n",
       "    <tr>\n",
       "      <th>bueno</th>\n",
       "      <td>0.061472</td>\n",
       "      <td>0.938528</td>\n",
       "    </tr>\n",
       "    <tr>\n",
       "      <th>fresco</th>\n",
       "      <td>0.907840</td>\n",
       "      <td>0.092160</td>\n",
       "    </tr>\n",
       "    <tr>\n",
       "      <th>grande</th>\n",
       "      <td>0.066921</td>\n",
       "      <td>0.933079</td>\n",
       "    </tr>\n",
       "    <tr>\n",
       "      <th>llano</th>\n",
       "      <td>0.736334</td>\n",
       "      <td>0.263666</td>\n",
       "    </tr>\n",
       "    <tr>\n",
       "      <th>nuevo</th>\n",
       "      <td>0.109936</td>\n",
       "      <td>0.890064</td>\n",
       "    </tr>\n",
       "    <tr>\n",
       "      <th>rudo</th>\n",
       "      <td>0.476793</td>\n",
       "      <td>0.523207</td>\n",
       "    </tr>\n",
       "  </tbody>\n",
       "</table>\n",
       "</div>"
      ],
      "text/plain": [
       "Position  postnominal  prenominal\n",
       "Lemma                            \n",
       "bueno        0.061472    0.938528\n",
       "fresco       0.907840    0.092160\n",
       "grande       0.066921    0.933079\n",
       "llano        0.736334    0.263666\n",
       "nuevo        0.109936    0.890064\n",
       "rudo         0.476793    0.523207"
      ]
     },
     "execution_count": 24,
     "metadata": {},
     "output_type": "execute_result"
    }
   ],
   "source": [
    "#Position by lemma in percentages\n",
    "\n",
    "position_lemma_percentages = df.groupby('Lemma').Position.value_counts(normalize=True).unstack()\n",
    "position_lemma_percentages"
   ]
  },
  {
   "cell_type": "code",
   "execution_count": 25,
   "metadata": {},
   "outputs": [
    {
     "data": {
      "text/html": [
       "<div>\n",
       "<style scoped>\n",
       "    .dataframe tbody tr th:only-of-type {\n",
       "        vertical-align: middle;\n",
       "    }\n",
       "\n",
       "    .dataframe tbody tr th {\n",
       "        vertical-align: top;\n",
       "    }\n",
       "\n",
       "    .dataframe thead th {\n",
       "        text-align: right;\n",
       "    }\n",
       "</style>\n",
       "<table border=\"1\" class=\"dataframe\">\n",
       "  <thead>\n",
       "    <tr style=\"text-align: right;\">\n",
       "      <th></th>\n",
       "      <th>Position</th>\n",
       "      <th>postnominal</th>\n",
       "      <th>prenominal</th>\n",
       "    </tr>\n",
       "    <tr>\n",
       "      <th>Lemma</th>\n",
       "      <th>Number</th>\n",
       "      <th></th>\n",
       "      <th></th>\n",
       "    </tr>\n",
       "  </thead>\n",
       "  <tbody>\n",
       "    <tr>\n",
       "      <th rowspan=\"2\" valign=\"top\">bueno</th>\n",
       "      <th>plural</th>\n",
       "      <td>1717</td>\n",
       "      <td>10436</td>\n",
       "    </tr>\n",
       "    <tr>\n",
       "      <th>singular</th>\n",
       "      <td>3922</td>\n",
       "      <td>75658</td>\n",
       "    </tr>\n",
       "    <tr>\n",
       "      <th rowspan=\"2\" valign=\"top\">fresco</th>\n",
       "      <th>plural</th>\n",
       "      <td>733</td>\n",
       "      <td>59</td>\n",
       "    </tr>\n",
       "    <tr>\n",
       "      <th>singular</th>\n",
       "      <td>1247</td>\n",
       "      <td>142</td>\n",
       "    </tr>\n",
       "    <tr>\n",
       "      <th rowspan=\"2\" valign=\"top\">grande</th>\n",
       "      <th>plural</th>\n",
       "      <td>2585</td>\n",
       "      <td>28691</td>\n",
       "    </tr>\n",
       "    <tr>\n",
       "      <th>singular</th>\n",
       "      <td>5941</td>\n",
       "      <td>90187</td>\n",
       "    </tr>\n",
       "    <tr>\n",
       "      <th rowspan=\"2\" valign=\"top\">llano</th>\n",
       "      <th>plural</th>\n",
       "      <td>61</td>\n",
       "      <td>6</td>\n",
       "    </tr>\n",
       "    <tr>\n",
       "      <th>singular</th>\n",
       "      <td>168</td>\n",
       "      <td>76</td>\n",
       "    </tr>\n",
       "    <tr>\n",
       "      <th rowspan=\"2\" valign=\"top\">nuevo</th>\n",
       "      <th>plural</th>\n",
       "      <td>6099</td>\n",
       "      <td>45335</td>\n",
       "    </tr>\n",
       "    <tr>\n",
       "      <th>singular</th>\n",
       "      <td>9148</td>\n",
       "      <td>78108</td>\n",
       "    </tr>\n",
       "    <tr>\n",
       "      <th rowspan=\"2\" valign=\"top\">rudo</th>\n",
       "      <th>plural</th>\n",
       "      <td>33</td>\n",
       "      <td>29</td>\n",
       "    </tr>\n",
       "    <tr>\n",
       "      <th>singular</th>\n",
       "      <td>80</td>\n",
       "      <td>95</td>\n",
       "    </tr>\n",
       "  </tbody>\n",
       "</table>\n",
       "</div>"
      ],
      "text/plain": [
       "Position         postnominal  prenominal\n",
       "Lemma  Number                           \n",
       "bueno  plural           1717       10436\n",
       "       singular         3922       75658\n",
       "fresco plural            733          59\n",
       "       singular         1247         142\n",
       "grande plural           2585       28691\n",
       "       singular         5941       90187\n",
       "llano  plural             61           6\n",
       "       singular          168          76\n",
       "nuevo  plural           6099       45335\n",
       "       singular         9148       78108\n",
       "rudo   plural             33          29\n",
       "       singular           80          95"
      ]
     },
     "execution_count": 25,
     "metadata": {},
     "output_type": "execute_result"
    }
   ],
   "source": [
    "#Position by lemma and number in raw counts\n",
    "\n",
    "position_lemma_number_counts = df.groupby(['Lemma','Number']).Position.value_counts().unstack()\n",
    "position_lemma_number_counts"
   ]
  },
  {
   "cell_type": "code",
   "execution_count": 26,
   "metadata": {},
   "outputs": [
    {
     "data": {
      "text/html": [
       "<div>\n",
       "<style scoped>\n",
       "    .dataframe tbody tr th:only-of-type {\n",
       "        vertical-align: middle;\n",
       "    }\n",
       "\n",
       "    .dataframe tbody tr th {\n",
       "        vertical-align: top;\n",
       "    }\n",
       "\n",
       "    .dataframe thead th {\n",
       "        text-align: right;\n",
       "    }\n",
       "</style>\n",
       "<table border=\"1\" class=\"dataframe\">\n",
       "  <thead>\n",
       "    <tr style=\"text-align: right;\">\n",
       "      <th></th>\n",
       "      <th>Position</th>\n",
       "      <th>postnominal</th>\n",
       "      <th>prenominal</th>\n",
       "    </tr>\n",
       "    <tr>\n",
       "      <th>Lemma</th>\n",
       "      <th>Number</th>\n",
       "      <th></th>\n",
       "      <th></th>\n",
       "    </tr>\n",
       "  </thead>\n",
       "  <tbody>\n",
       "    <tr>\n",
       "      <th rowspan=\"2\" valign=\"top\">bueno</th>\n",
       "      <th>plural</th>\n",
       "      <td>0.141282</td>\n",
       "      <td>0.858718</td>\n",
       "    </tr>\n",
       "    <tr>\n",
       "      <th>singular</th>\n",
       "      <td>0.049284</td>\n",
       "      <td>0.950716</td>\n",
       "    </tr>\n",
       "    <tr>\n",
       "      <th rowspan=\"2\" valign=\"top\">fresco</th>\n",
       "      <th>plural</th>\n",
       "      <td>0.925505</td>\n",
       "      <td>0.074495</td>\n",
       "    </tr>\n",
       "    <tr>\n",
       "      <th>singular</th>\n",
       "      <td>0.897768</td>\n",
       "      <td>0.102232</td>\n",
       "    </tr>\n",
       "    <tr>\n",
       "      <th rowspan=\"2\" valign=\"top\">grande</th>\n",
       "      <th>plural</th>\n",
       "      <td>0.082651</td>\n",
       "      <td>0.917349</td>\n",
       "    </tr>\n",
       "    <tr>\n",
       "      <th>singular</th>\n",
       "      <td>0.061803</td>\n",
       "      <td>0.938197</td>\n",
       "    </tr>\n",
       "    <tr>\n",
       "      <th rowspan=\"2\" valign=\"top\">llano</th>\n",
       "      <th>plural</th>\n",
       "      <td>0.910448</td>\n",
       "      <td>0.089552</td>\n",
       "    </tr>\n",
       "    <tr>\n",
       "      <th>singular</th>\n",
       "      <td>0.688525</td>\n",
       "      <td>0.311475</td>\n",
       "    </tr>\n",
       "    <tr>\n",
       "      <th rowspan=\"2\" valign=\"top\">nuevo</th>\n",
       "      <th>plural</th>\n",
       "      <td>0.118579</td>\n",
       "      <td>0.881421</td>\n",
       "    </tr>\n",
       "    <tr>\n",
       "      <th>singular</th>\n",
       "      <td>0.104841</td>\n",
       "      <td>0.895159</td>\n",
       "    </tr>\n",
       "    <tr>\n",
       "      <th rowspan=\"2\" valign=\"top\">rudo</th>\n",
       "      <th>plural</th>\n",
       "      <td>0.532258</td>\n",
       "      <td>0.467742</td>\n",
       "    </tr>\n",
       "    <tr>\n",
       "      <th>singular</th>\n",
       "      <td>0.457143</td>\n",
       "      <td>0.542857</td>\n",
       "    </tr>\n",
       "  </tbody>\n",
       "</table>\n",
       "</div>"
      ],
      "text/plain": [
       "Position         postnominal  prenominal\n",
       "Lemma  Number                           \n",
       "bueno  plural       0.141282    0.858718\n",
       "       singular     0.049284    0.950716\n",
       "fresco plural       0.925505    0.074495\n",
       "       singular     0.897768    0.102232\n",
       "grande plural       0.082651    0.917349\n",
       "       singular     0.061803    0.938197\n",
       "llano  plural       0.910448    0.089552\n",
       "       singular     0.688525    0.311475\n",
       "nuevo  plural       0.118579    0.881421\n",
       "       singular     0.104841    0.895159\n",
       "rudo   plural       0.532258    0.467742\n",
       "       singular     0.457143    0.542857"
      ]
     },
     "execution_count": 26,
     "metadata": {},
     "output_type": "execute_result"
    }
   ],
   "source": [
    "# Position by lemma and number in percentages\n",
    "\n",
    "position_lemma_number_percentages = df.groupby(['Lemma','Number']).Position.value_counts(normalize=True).unstack()\n",
    "position_lemma_number_percentages "
   ]
  },
  {
   "cell_type": "markdown",
   "metadata": {},
   "source": [
    "## 4. Plotting"
   ]
  },
  {
   "cell_type": "code",
   "execution_count": 27,
   "metadata": {},
   "outputs": [
    {
     "data": {
      "text/plain": [
       "<matplotlib.axes._subplots.AxesSubplot object at 0x000001E7D1FC9820>"
      ]
     },
     "execution_count": 27,
     "metadata": {},
     "output_type": "execute_result"
    },
    {
     "data": {
      "text/plain": [
       "Text(0.5, 1.0, 'Figure 1. Adjective position by lemma.')"
      ]
     },
     "execution_count": 27,
     "metadata": {},
     "output_type": "execute_result"
    },
    {
     "data": {
      "image/png": "[encoded data removed]",
      "text/plain": [
       "<Figure size 864x432 with 1 Axes>"
      ]
     },
     "metadata": {
      "needs_background": "light"
     },
     "output_type": "display_data"
    }
   ],
   "source": [
    "#Build general plot\n",
    "\n",
    "position_lemma_percentages.plot(kind='bar',stacked='True', figsize=(12,6), color=['navy', 'gold'], edgecolor='black', \n",
    "                        fontsize=14, rot=0)\n",
    "plt.title('Figure 1. Adjective position by lemma.', fontsize=18)"
   ]
  },
  {
   "cell_type": "code",
   "execution_count": 28,
   "metadata": {},
   "outputs": [
    {
     "data": {
      "text/plain": [
       "<matplotlib.axes._subplots.AxesSubplot object at 0x000001E7D6F94FD0>"
      ]
     },
     "execution_count": 28,
     "metadata": {},
     "output_type": "execute_result"
    },
    {
     "data": {
      "text/plain": [
       "Text(0.5, 1.0, 'Figure 2. Adjective position by lemma (only plural forms).')"
      ]
     },
     "execution_count": 28,
     "metadata": {},
     "output_type": "execute_result"
    },
    {
     "data": {
      "image/png": "[encoded data removed]",
      "text/plain": [
       "<Figure size 864x432 with 1 Axes>"
      ]
     },
     "metadata": {
      "needs_background": "light"
     },
     "output_type": "display_data"
    }
   ],
   "source": [
    "#Build plot for plural forms\n",
    "\n",
    "position_lemma_percentages_plural = df_plural.groupby('Lemma').Position.value_counts(normalize=True).unstack()\n",
    "\n",
    "position_lemma_percentages_plural.plot(kind='bar',stacked='True', figsize=(12,6), color=['navy', 'gold'], edgecolor='black', \n",
    "                        fontsize=14, rot=0)\n",
    "plt.title('Figure 2. Adjective position by lemma (only plural forms).', fontsize=18)"
   ]
  }
 ],
 "metadata": {
  "kernelspec": {
   "display_name": "Python 3",
   "language": "python",
   "name": "python3"
  },
  "language_info": {
   "codemirror_mode": {
    "name": "ipython",
    "version": 3
   },
   "file_extension": ".py",
   "mimetype": "text/x-python",
   "name": "python",
   "nbconvert_exporter": "python",
   "pygments_lexer": "ipython3",
   "version": "3.8.3"
  }
 },
 "nbformat": 4,
 "nbformat_minor": 4
}
