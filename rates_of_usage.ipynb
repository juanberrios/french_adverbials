{
 "cells": [
  {
   "cell_type": "markdown",
   "metadata": {},
   "source": [
    "# French adverbials and subjuntive use\n",
    "\n",
    "Juan Berrios | juanberrios@pitt.edu | Last updated: October 26, 2022"
   ]
  },
  {
   "cell_type": "markdown",
   "metadata": {},
   "source": [
    "**Summary and overview of the data:**"
   ]
  },
  {
   "cell_type": "markdown",
   "metadata": {},
   "source": [
    "- This notebook is a continuation of a prior corpus processing notebook. The purpose of this notebook is to extract relative rates of usage, based on the previously built data set."
   ]
  },
  {
   "cell_type": "markdown",
   "metadata": {},
   "source": [
    "**Contents:**\n",
    "1. [Preparation](#1.-Preparation)  includes the necessary preparations.\n",
    "2. [Loading files](#2.-Loading-files)  includes code for loading the files and examining them.\n",
    "3. [Usage rates](#3.-Usage-rates)  includes code for extracting subjunctive and indicative usage rates for the French adverbials under study."
   ]
  },
  {
   "cell_type": "markdown",
   "metadata": {},
   "source": [
    "## 1. Preparation"
   ]
  },
  {
   "cell_type": "markdown",
   "metadata": {},
   "source": [
    "- Loading libraries and additional settings:"
   ]
  },
  {
   "cell_type": "code",
   "execution_count": 1,
   "metadata": {},
   "outputs": [
    {
     "name": "stdout",
     "output_type": "stream",
     "text": [
      "Pretty printing has been turned OFF\n"
     ]
    }
   ],
   "source": [
    "#Importing libraries\n",
    "import pandas as pd\n",
    "import numpy as np\n",
    "\n",
    "#Turning pretty print off:\n",
    "%pprint\n",
    "\n",
    "#Releasing all output:                                            \n",
    "from IPython.core.interactiveshell import InteractiveShell #Prints all commands rather than the last one.\n",
    "InteractiveShell.ast_node_interactivity = \"all\""
   ]
  },
  {
   "cell_type": "markdown",
   "metadata": {},
   "source": [
    "## 2. Loading files"
   ]
  },
  {
   "cell_type": "markdown",
   "metadata": {},
   "source": [
    "- Loading tagged `.csv` file: "
   ]
  },
  {
   "cell_type": "code",
   "execution_count": 2,
   "metadata": {},
   "outputs": [],
   "source": [
    "fname = \"./data/adverbials_df_tagged.csv\"\n",
    "\n",
    "df = pd.read_csv(fname,encoding ='utf-8')"
   ]
  },
  {
   "cell_type": "code",
   "execution_count": 3,
   "metadata": {},
   "outputs": [
    {
     "data": {
      "text/plain": [
       "(1164, 6)"
      ]
     },
     "execution_count": 3,
     "metadata": {},
     "output_type": "execute_result"
    }
   ],
   "source": [
    "df.shape #1164 observations"
   ]
  },
  {
   "cell_type": "code",
   "execution_count": 4,
   "metadata": {},
   "outputs": [
    {
     "data": {
      "text/html": [
       "<div>\n",
       "<style scoped>\n",
       "    .dataframe tbody tr th:only-of-type {\n",
       "        vertical-align: middle;\n",
       "    }\n",
       "\n",
       "    .dataframe tbody tr th {\n",
       "        vertical-align: top;\n",
       "    }\n",
       "\n",
       "    .dataframe thead th {\n",
       "        text-align: right;\n",
       "    }\n",
       "</style>\n",
       "<table border=\"1\" class=\"dataframe\">\n",
       "  <thead>\n",
       "    <tr style=\"text-align: right;\">\n",
       "      <th></th>\n",
       "      <th>index</th>\n",
       "      <th>concordance</th>\n",
       "      <th>adverbial</th>\n",
       "      <th>mood</th>\n",
       "      <th>mood_binary</th>\n",
       "      <th>corpus</th>\n",
       "    </tr>\n",
       "  </thead>\n",
       "  <tbody>\n",
       "    <tr>\n",
       "      <th>0</th>\n",
       "      <td>1</td>\n",
       "      <td>avant que Casino prenne la place à l'époque où...</td>\n",
       "      <td>avant que</td>\n",
       "      <td>subjunctive</td>\n",
       "      <td>subjunctive</td>\n",
       "      <td>CFPP200</td>\n",
       "    </tr>\n",
       "    <tr>\n",
       "      <th>1</th>\n",
       "      <td>3</td>\n",
       "      <td>avant que ce soit rendu à la ville dans les an...</td>\n",
       "      <td>avant que</td>\n",
       "      <td>subjunctive</td>\n",
       "      <td>subjunctive</td>\n",
       "      <td>CFPP200</td>\n",
       "    </tr>\n",
       "    <tr>\n",
       "      <th>2</th>\n",
       "      <td>5</td>\n",
       "      <td>non j'ai l'impression qu'à Montreuil maintenan...</td>\n",
       "      <td>avant que</td>\n",
       "      <td>subjunctive</td>\n",
       "      <td>subjunctive</td>\n",
       "      <td>CFPP200</td>\n",
       "    </tr>\n",
       "    <tr>\n",
       "      <th>3</th>\n",
       "      <td>6</td>\n",
       "      <td>depuis toujours oui avant que le mot informati...</td>\n",
       "      <td>avant que</td>\n",
       "      <td>ambiguous</td>\n",
       "      <td>subjunctive</td>\n",
       "      <td>CFPP200</td>\n",
       "    </tr>\n",
       "    <tr>\n",
       "      <th>4</th>\n",
       "      <td>7</td>\n",
       "      <td>et parce que tout ça là où je suis moi avant q...</td>\n",
       "      <td>avant que</td>\n",
       "      <td>subjunctive</td>\n",
       "      <td>subjunctive</td>\n",
       "      <td>CFPP200</td>\n",
       "    </tr>\n",
       "    <tr>\n",
       "      <th>...</th>\n",
       "      <td>...</td>\n",
       "      <td>...</td>\n",
       "      <td>...</td>\n",
       "      <td>...</td>\n",
       "      <td>...</td>\n",
       "      <td>...</td>\n",
       "    </tr>\n",
       "    <tr>\n",
       "      <th>1159</th>\n",
       "      <td>1751</td>\n",
       "      <td>voilà   mais après aussi ce qu'il faut savoir ...</td>\n",
       "      <td>quand</td>\n",
       "      <td>ambiguous</td>\n",
       "      <td>indicative</td>\n",
       "      <td>CFPP200</td>\n",
       "    </tr>\n",
       "    <tr>\n",
       "      <th>1160</th>\n",
       "      <td>1752</td>\n",
       "      <td>quand elle s'adresse à ses petites-filles §</td>\n",
       "      <td>quand</td>\n",
       "      <td>ambiguous</td>\n",
       "      <td>indicative</td>\n",
       "      <td>CFPP200</td>\n",
       "    </tr>\n",
       "    <tr>\n",
       "      <th>1161</th>\n",
       "      <td>1753</td>\n",
       "      <td>voilà ou pff   quand je vais dans la rue ou ou...</td>\n",
       "      <td>quand</td>\n",
       "      <td>indicative</td>\n",
       "      <td>indicative</td>\n",
       "      <td>CFPP200</td>\n",
       "    </tr>\n",
       "    <tr>\n",
       "      <th>1162</th>\n",
       "      <td>1754</td>\n",
       "      <td>ou enfin au moins pas anonymes quoi parce que ...</td>\n",
       "      <td>quand</td>\n",
       "      <td>indicative</td>\n",
       "      <td>indicative</td>\n",
       "      <td>CFPP200</td>\n",
       "    </tr>\n",
       "    <tr>\n",
       "      <th>1163</th>\n",
       "      <td>1759</td>\n",
       "      <td>quand on y est depuis septembre 2003   donc ça...</td>\n",
       "      <td>quand</td>\n",
       "      <td>indicative</td>\n",
       "      <td>indicative</td>\n",
       "      <td>CFPP200</td>\n",
       "    </tr>\n",
       "  </tbody>\n",
       "</table>\n",
       "<p>1164 rows × 6 columns</p>\n",
       "</div>"
      ],
      "text/plain": [
       "      index                                        concordance  adverbial  \\\n",
       "0         1  avant que Casino prenne la place à l'époque où...  avant que   \n",
       "1         3  avant que ce soit rendu à la ville dans les an...  avant que   \n",
       "2         5  non j'ai l'impression qu'à Montreuil maintenan...  avant que   \n",
       "3         6  depuis toujours oui avant que le mot informati...  avant que   \n",
       "4         7  et parce que tout ça là où je suis moi avant q...  avant que   \n",
       "...     ...                                                ...        ...   \n",
       "1159   1751  voilà   mais après aussi ce qu'il faut savoir ...      quand   \n",
       "1160   1752        quand elle s'adresse à ses petites-filles §      quand   \n",
       "1161   1753  voilà ou pff   quand je vais dans la rue ou ou...      quand   \n",
       "1162   1754  ou enfin au moins pas anonymes quoi parce que ...      quand   \n",
       "1163   1759  quand on y est depuis septembre 2003   donc ça...      quand   \n",
       "\n",
       "             mood  mood_binary   corpus  \n",
       "0     subjunctive  subjunctive  CFPP200  \n",
       "1     subjunctive  subjunctive  CFPP200  \n",
       "2     subjunctive  subjunctive  CFPP200  \n",
       "3       ambiguous  subjunctive  CFPP200  \n",
       "4     subjunctive  subjunctive  CFPP200  \n",
       "...           ...          ...      ...  \n",
       "1159    ambiguous   indicative  CFPP200  \n",
       "1160    ambiguous   indicative  CFPP200  \n",
       "1161   indicative   indicative  CFPP200  \n",
       "1162   indicative   indicative  CFPP200  \n",
       "1163   indicative   indicative  CFPP200  \n",
       "\n",
       "[1164 rows x 6 columns]"
      ]
     },
     "execution_count": 4,
     "metadata": {},
     "output_type": "execute_result"
    }
   ],
   "source": [
    "df #preview of first five and last five"
   ]
  },
  {
   "cell_type": "code",
   "execution_count": 5,
   "metadata": {},
   "outputs": [
    {
     "name": "stdout",
     "output_type": "stream",
     "text": [
      "<class 'pandas.core.frame.DataFrame'>\n",
      "RangeIndex: 1164 entries, 0 to 1163\n",
      "Data columns (total 6 columns):\n",
      " #   Column       Non-Null Count  Dtype \n",
      "---  ------       --------------  ----- \n",
      " 0   index        1164 non-null   int64 \n",
      " 1   concordance  1164 non-null   object\n",
      " 2   adverbial    1164 non-null   object\n",
      " 3   mood         1164 non-null   object\n",
      " 4   mood_binary  1164 non-null   object\n",
      " 5   corpus       1164 non-null   object\n",
      "dtypes: int64(1), object(5)\n",
      "memory usage: 54.7+ KB\n"
     ]
    }
   ],
   "source": [
    "df.info() #Some general information about the resulting data frame"
   ]
  },
  {
   "cell_type": "markdown",
   "metadata": {},
   "source": [
    "## 3. Usage rates"
   ]
  },
  {
   "cell_type": "markdown",
   "metadata": {},
   "source": [
    "- Each observation has a value for the mood column that was coded manually to consider the whole context. Some are not possible to assign to only one mood, however, and were coded as ambiguous. We'll remove those from final tallies:"
   ]
  },
  {
   "cell_type": "code",
   "execution_count": 6,
   "metadata": {},
   "outputs": [],
   "source": [
    "#Creating a subset for non-ambiguous mood only\n",
    "\n",
    "df_binary = df[(df['mood'] != 'ambiguous')]"
   ]
  },
  {
   "cell_type": "code",
   "execution_count": 7,
   "metadata": {},
   "outputs": [
    {
     "data": {
      "text/plain": [
       "(875, 6)"
      ]
     },
     "execution_count": 7,
     "metadata": {},
     "output_type": "execute_result"
    }
   ],
   "source": [
    "#Verifying observations left\n",
    "\n",
    "df_binary.shape"
   ]
  },
  {
   "cell_type": "markdown",
   "metadata": {},
   "source": [
    "- The following cells contain distribution counts and relative use for the full data set (including ambiguous tokens):"
   ]
  },
  {
   "cell_type": "code",
   "execution_count": 8,
   "metadata": {},
   "outputs": [
    {
     "data": {
      "text/plain": [
       "quand             1131\n",
       "tandis que          18\n",
       "avant que            9\n",
       "jusqu'à ce que       6\n",
       "Name: adverbial, dtype: int64"
      ]
     },
     "execution_count": 8,
     "metadata": {},
     "output_type": "execute_result"
    }
   ],
   "source": [
    "#Overall distribution of adverbials\n",
    "\n",
    "df['adverbial'].value_counts() "
   ]
  },
  {
   "cell_type": "code",
   "execution_count": 9,
   "metadata": {},
   "outputs": [
    {
     "data": {
      "text/plain": [
       "subjunctive     14\n",
       "ambiguous      289\n",
       "indicative     861\n",
       "Name: mood, dtype: int64"
      ]
     },
     "execution_count": 9,
     "metadata": {},
     "output_type": "execute_result"
    }
   ],
   "source": [
    "#Overall mood use distribution (including ambiguous)\n",
    "\n",
    "df['mood'].value_counts(ascending=True)   "
   ]
  },
  {
   "cell_type": "code",
   "execution_count": 10,
   "metadata": {},
   "outputs": [
    {
     "data": {
      "text/plain": [
       "subjunctive      18\n",
       "indicative     1146\n",
       "Name: mood_binary, dtype: int64"
      ]
     },
     "execution_count": 10,
     "metadata": {},
     "output_type": "execute_result"
    }
   ],
   "source": [
    "#Overall mood use distribution (merging ambiguous into the prescriptive expected mood)\n",
    "\n",
    "df['mood_binary'].value_counts(ascending=True)   "
   ]
  },
  {
   "cell_type": "code",
   "execution_count": 11,
   "metadata": {},
   "outputs": [
    {
     "data": {
      "text/html": [
       "<div>\n",
       "<style scoped>\n",
       "    .dataframe tbody tr th:only-of-type {\n",
       "        vertical-align: middle;\n",
       "    }\n",
       "\n",
       "    .dataframe tbody tr th {\n",
       "        vertical-align: top;\n",
       "    }\n",
       "\n",
       "    .dataframe thead th {\n",
       "        text-align: right;\n",
       "    }\n",
       "</style>\n",
       "<table border=\"1\" class=\"dataframe\">\n",
       "  <thead>\n",
       "    <tr style=\"text-align: right;\">\n",
       "      <th>mood</th>\n",
       "      <th>ambiguous</th>\n",
       "      <th>indicative</th>\n",
       "      <th>subjunctive</th>\n",
       "    </tr>\n",
       "    <tr>\n",
       "      <th>adverbial</th>\n",
       "      <th></th>\n",
       "      <th></th>\n",
       "      <th></th>\n",
       "    </tr>\n",
       "  </thead>\n",
       "  <tbody>\n",
       "    <tr>\n",
       "      <th>avant que</th>\n",
       "      <td>2.0</td>\n",
       "      <td>NaN</td>\n",
       "      <td>7.0</td>\n",
       "    </tr>\n",
       "    <tr>\n",
       "      <th>jusqu'à ce que</th>\n",
       "      <td>2.0</td>\n",
       "      <td>NaN</td>\n",
       "      <td>4.0</td>\n",
       "    </tr>\n",
       "    <tr>\n",
       "      <th>quand</th>\n",
       "      <td>276.0</td>\n",
       "      <td>852.0</td>\n",
       "      <td>3.0</td>\n",
       "    </tr>\n",
       "    <tr>\n",
       "      <th>tandis que</th>\n",
       "      <td>9.0</td>\n",
       "      <td>9.0</td>\n",
       "      <td>NaN</td>\n",
       "    </tr>\n",
       "  </tbody>\n",
       "</table>\n",
       "</div>"
      ],
      "text/plain": [
       "mood            ambiguous  indicative  subjunctive\n",
       "adverbial                                         \n",
       "avant que             2.0         NaN          7.0\n",
       "jusqu'à ce que        2.0         NaN          4.0\n",
       "quand               276.0       852.0          3.0\n",
       "tandis que            9.0         9.0          NaN"
      ]
     },
     "execution_count": 11,
     "metadata": {},
     "output_type": "execute_result"
    }
   ],
   "source": [
    "#Distribution of mood (including ambiguous) by adverbial\n",
    "\n",
    "df.groupby('adverbial').mood.value_counts().unstack()"
   ]
  },
  {
   "cell_type": "code",
   "execution_count": 12,
   "metadata": {},
   "outputs": [
    {
     "data": {
      "text/html": [
       "<div>\n",
       "<style scoped>\n",
       "    .dataframe tbody tr th:only-of-type {\n",
       "        vertical-align: middle;\n",
       "    }\n",
       "\n",
       "    .dataframe tbody tr th {\n",
       "        vertical-align: top;\n",
       "    }\n",
       "\n",
       "    .dataframe thead th {\n",
       "        text-align: right;\n",
       "    }\n",
       "</style>\n",
       "<table border=\"1\" class=\"dataframe\">\n",
       "  <thead>\n",
       "    <tr style=\"text-align: right;\">\n",
       "      <th>mood</th>\n",
       "      <th>ambiguous</th>\n",
       "      <th>indicative</th>\n",
       "      <th>subjunctive</th>\n",
       "    </tr>\n",
       "    <tr>\n",
       "      <th>adverbial</th>\n",
       "      <th></th>\n",
       "      <th></th>\n",
       "      <th></th>\n",
       "    </tr>\n",
       "  </thead>\n",
       "  <tbody>\n",
       "    <tr>\n",
       "      <th>avant que</th>\n",
       "      <td>0.222222</td>\n",
       "      <td>NaN</td>\n",
       "      <td>0.777778</td>\n",
       "    </tr>\n",
       "    <tr>\n",
       "      <th>jusqu'à ce que</th>\n",
       "      <td>0.333333</td>\n",
       "      <td>NaN</td>\n",
       "      <td>0.666667</td>\n",
       "    </tr>\n",
       "    <tr>\n",
       "      <th>quand</th>\n",
       "      <td>0.244032</td>\n",
       "      <td>0.753316</td>\n",
       "      <td>0.002653</td>\n",
       "    </tr>\n",
       "    <tr>\n",
       "      <th>tandis que</th>\n",
       "      <td>0.500000</td>\n",
       "      <td>0.500000</td>\n",
       "      <td>NaN</td>\n",
       "    </tr>\n",
       "  </tbody>\n",
       "</table>\n",
       "</div>"
      ],
      "text/plain": [
       "mood            ambiguous  indicative  subjunctive\n",
       "adverbial                                         \n",
       "avant que        0.222222         NaN     0.777778\n",
       "jusqu'à ce que   0.333333         NaN     0.666667\n",
       "quand            0.244032    0.753316     0.002653\n",
       "tandis que       0.500000    0.500000          NaN"
      ]
     },
     "execution_count": 12,
     "metadata": {},
     "output_type": "execute_result"
    }
   ],
   "source": [
    "#Relative use of mood (including ambiguous) by adverbial\n",
    "\n",
    "df.groupby('adverbial').mood.value_counts(normalize=True).unstack()"
   ]
  },
  {
   "cell_type": "code",
   "execution_count": 13,
   "metadata": {},
   "outputs": [
    {
     "data": {
      "text/html": [
       "<div>\n",
       "<style scoped>\n",
       "    .dataframe tbody tr th:only-of-type {\n",
       "        vertical-align: middle;\n",
       "    }\n",
       "\n",
       "    .dataframe tbody tr th {\n",
       "        vertical-align: top;\n",
       "    }\n",
       "\n",
       "    .dataframe thead th {\n",
       "        text-align: right;\n",
       "    }\n",
       "</style>\n",
       "<table border=\"1\" class=\"dataframe\">\n",
       "  <thead>\n",
       "    <tr style=\"text-align: right;\">\n",
       "      <th>mood_binary</th>\n",
       "      <th>indicative</th>\n",
       "      <th>subjunctive</th>\n",
       "    </tr>\n",
       "    <tr>\n",
       "      <th>adverbial</th>\n",
       "      <th></th>\n",
       "      <th></th>\n",
       "    </tr>\n",
       "  </thead>\n",
       "  <tbody>\n",
       "    <tr>\n",
       "      <th>avant que</th>\n",
       "      <td>NaN</td>\n",
       "      <td>9.0</td>\n",
       "    </tr>\n",
       "    <tr>\n",
       "      <th>jusqu'à ce que</th>\n",
       "      <td>NaN</td>\n",
       "      <td>6.0</td>\n",
       "    </tr>\n",
       "    <tr>\n",
       "      <th>quand</th>\n",
       "      <td>1128.0</td>\n",
       "      <td>3.0</td>\n",
       "    </tr>\n",
       "    <tr>\n",
       "      <th>tandis que</th>\n",
       "      <td>18.0</td>\n",
       "      <td>NaN</td>\n",
       "    </tr>\n",
       "  </tbody>\n",
       "</table>\n",
       "</div>"
      ],
      "text/plain": [
       "mood_binary     indicative  subjunctive\n",
       "adverbial                              \n",
       "avant que              NaN          9.0\n",
       "jusqu'à ce que         NaN          6.0\n",
       "quand               1128.0          3.0\n",
       "tandis que            18.0          NaN"
      ]
     },
     "execution_count": 13,
     "metadata": {},
     "output_type": "execute_result"
    }
   ],
   "source": [
    "#Distribution of mood (merging ambiguous) by adverbial\n",
    "\n",
    "df.groupby('adverbial').mood_binary.value_counts().unstack()"
   ]
  },
  {
   "cell_type": "code",
   "execution_count": 14,
   "metadata": {
    "scrolled": true
   },
   "outputs": [
    {
     "data": {
      "text/html": [
       "<div>\n",
       "<style scoped>\n",
       "    .dataframe tbody tr th:only-of-type {\n",
       "        vertical-align: middle;\n",
       "    }\n",
       "\n",
       "    .dataframe tbody tr th {\n",
       "        vertical-align: top;\n",
       "    }\n",
       "\n",
       "    .dataframe thead th {\n",
       "        text-align: right;\n",
       "    }\n",
       "</style>\n",
       "<table border=\"1\" class=\"dataframe\">\n",
       "  <thead>\n",
       "    <tr style=\"text-align: right;\">\n",
       "      <th>mood_binary</th>\n",
       "      <th>indicative</th>\n",
       "      <th>subjunctive</th>\n",
       "    </tr>\n",
       "    <tr>\n",
       "      <th>adverbial</th>\n",
       "      <th></th>\n",
       "      <th></th>\n",
       "    </tr>\n",
       "  </thead>\n",
       "  <tbody>\n",
       "    <tr>\n",
       "      <th>avant que</th>\n",
       "      <td>NaN</td>\n",
       "      <td>1.000000</td>\n",
       "    </tr>\n",
       "    <tr>\n",
       "      <th>jusqu'à ce que</th>\n",
       "      <td>NaN</td>\n",
       "      <td>1.000000</td>\n",
       "    </tr>\n",
       "    <tr>\n",
       "      <th>quand</th>\n",
       "      <td>0.997347</td>\n",
       "      <td>0.002653</td>\n",
       "    </tr>\n",
       "    <tr>\n",
       "      <th>tandis que</th>\n",
       "      <td>1.000000</td>\n",
       "      <td>NaN</td>\n",
       "    </tr>\n",
       "  </tbody>\n",
       "</table>\n",
       "</div>"
      ],
      "text/plain": [
       "mood_binary     indicative  subjunctive\n",
       "adverbial                              \n",
       "avant que              NaN     1.000000\n",
       "jusqu'à ce que         NaN     1.000000\n",
       "quand             0.997347     0.002653\n",
       "tandis que        1.000000          NaN"
      ]
     },
     "execution_count": 14,
     "metadata": {},
     "output_type": "execute_result"
    }
   ],
   "source": [
    "#Relative use of mood (merging ambiguous) by adverbial\n",
    "\n",
    "df.groupby('adverbial').mood_binary.value_counts(normalize=True).unstack()"
   ]
  },
  {
   "cell_type": "markdown",
   "metadata": {},
   "source": [
    "- The following cells contain distribution counts and relative use for the a subset of the data set excluding ambiguous tokens:"
   ]
  },
  {
   "cell_type": "code",
   "execution_count": 15,
   "metadata": {},
   "outputs": [
    {
     "data": {
      "text/plain": [
       "quand             855\n",
       "tandis que          9\n",
       "avant que           7\n",
       "jusqu'à ce que      4\n",
       "Name: adverbial, dtype: int64"
      ]
     },
     "execution_count": 15,
     "metadata": {},
     "output_type": "execute_result"
    }
   ],
   "source": [
    "#Overall distribution of adverbials\n",
    "\n",
    "df_binary['adverbial'].value_counts() "
   ]
  },
  {
   "cell_type": "code",
   "execution_count": 16,
   "metadata": {},
   "outputs": [
    {
     "data": {
      "text/plain": [
       "subjunctive     14\n",
       "indicative     861\n",
       "Name: mood, dtype: int64"
      ]
     },
     "execution_count": 16,
     "metadata": {},
     "output_type": "execute_result"
    }
   ],
   "source": [
    "#Overall mood distribution\n",
    "\n",
    "df_binary['mood'].value_counts(ascending=True)   "
   ]
  },
  {
   "cell_type": "code",
   "execution_count": 17,
   "metadata": {},
   "outputs": [
    {
     "data": {
      "text/html": [
       "<div>\n",
       "<style scoped>\n",
       "    .dataframe tbody tr th:only-of-type {\n",
       "        vertical-align: middle;\n",
       "    }\n",
       "\n",
       "    .dataframe tbody tr th {\n",
       "        vertical-align: top;\n",
       "    }\n",
       "\n",
       "    .dataframe thead th {\n",
       "        text-align: right;\n",
       "    }\n",
       "</style>\n",
       "<table border=\"1\" class=\"dataframe\">\n",
       "  <thead>\n",
       "    <tr style=\"text-align: right;\">\n",
       "      <th>mood</th>\n",
       "      <th>indicative</th>\n",
       "      <th>subjunctive</th>\n",
       "    </tr>\n",
       "    <tr>\n",
       "      <th>adverbial</th>\n",
       "      <th></th>\n",
       "      <th></th>\n",
       "    </tr>\n",
       "  </thead>\n",
       "  <tbody>\n",
       "    <tr>\n",
       "      <th>avant que</th>\n",
       "      <td>NaN</td>\n",
       "      <td>7.0</td>\n",
       "    </tr>\n",
       "    <tr>\n",
       "      <th>jusqu'à ce que</th>\n",
       "      <td>NaN</td>\n",
       "      <td>4.0</td>\n",
       "    </tr>\n",
       "    <tr>\n",
       "      <th>quand</th>\n",
       "      <td>852.0</td>\n",
       "      <td>3.0</td>\n",
       "    </tr>\n",
       "    <tr>\n",
       "      <th>tandis que</th>\n",
       "      <td>9.0</td>\n",
       "      <td>NaN</td>\n",
       "    </tr>\n",
       "  </tbody>\n",
       "</table>\n",
       "</div>"
      ],
      "text/plain": [
       "mood            indicative  subjunctive\n",
       "adverbial                              \n",
       "avant que              NaN          7.0\n",
       "jusqu'à ce que         NaN          4.0\n",
       "quand                852.0          3.0\n",
       "tandis que             9.0          NaN"
      ]
     },
     "execution_count": 17,
     "metadata": {},
     "output_type": "execute_result"
    }
   ],
   "source": [
    "#Distribution of mood by adverbial\n",
    "\n",
    "df_binary.groupby('adverbial').mood.value_counts().unstack()"
   ]
  },
  {
   "cell_type": "code",
   "execution_count": 18,
   "metadata": {},
   "outputs": [
    {
     "data": {
      "text/html": [
       "<div>\n",
       "<style scoped>\n",
       "    .dataframe tbody tr th:only-of-type {\n",
       "        vertical-align: middle;\n",
       "    }\n",
       "\n",
       "    .dataframe tbody tr th {\n",
       "        vertical-align: top;\n",
       "    }\n",
       "\n",
       "    .dataframe thead th {\n",
       "        text-align: right;\n",
       "    }\n",
       "</style>\n",
       "<table border=\"1\" class=\"dataframe\">\n",
       "  <thead>\n",
       "    <tr style=\"text-align: right;\">\n",
       "      <th>mood</th>\n",
       "      <th>indicative</th>\n",
       "      <th>subjunctive</th>\n",
       "    </tr>\n",
       "    <tr>\n",
       "      <th>adverbial</th>\n",
       "      <th></th>\n",
       "      <th></th>\n",
       "    </tr>\n",
       "  </thead>\n",
       "  <tbody>\n",
       "    <tr>\n",
       "      <th>avant que</th>\n",
       "      <td>NaN</td>\n",
       "      <td>1.000000</td>\n",
       "    </tr>\n",
       "    <tr>\n",
       "      <th>jusqu'à ce que</th>\n",
       "      <td>NaN</td>\n",
       "      <td>1.000000</td>\n",
       "    </tr>\n",
       "    <tr>\n",
       "      <th>quand</th>\n",
       "      <td>0.996491</td>\n",
       "      <td>0.003509</td>\n",
       "    </tr>\n",
       "    <tr>\n",
       "      <th>tandis que</th>\n",
       "      <td>1.000000</td>\n",
       "      <td>NaN</td>\n",
       "    </tr>\n",
       "  </tbody>\n",
       "</table>\n",
       "</div>"
      ],
      "text/plain": [
       "mood            indicative  subjunctive\n",
       "adverbial                              \n",
       "avant que              NaN     1.000000\n",
       "jusqu'à ce que         NaN     1.000000\n",
       "quand             0.996491     0.003509\n",
       "tandis que        1.000000          NaN"
      ]
     },
     "execution_count": 18,
     "metadata": {},
     "output_type": "execute_result"
    }
   ],
   "source": [
    "#Relative use of mood by adverbial\n",
    "\n",
    "df_binary.groupby('adverbial').mood.value_counts(normalize=True).unstack()"
   ]
  }
 ],
 "metadata": {
  "kernelspec": {
   "display_name": "Python 3",
   "language": "python",
   "name": "python3"
  },
  "language_info": {
   "codemirror_mode": {
    "name": "ipython",
    "version": 3
   },
   "file_extension": ".py",
   "mimetype": "text/x-python",
   "name": "python",
   "nbconvert_exporter": "python",
   "pygments_lexer": "ipython3",
   "version": "3.8.3"
  }
 },
 "nbformat": 4,
 "nbformat_minor": 4
}
