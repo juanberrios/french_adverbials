{
 "cells": [
  {
   "cell_type": "markdown",
   "metadata": {},
   "source": [
    "# French adverbials and subjuntive use\n",
    "\n",
    "Juan Berrios | juanberrios@pitt.edu | Last updated: October 26, 2022"
   ]
  },
  {
   "cell_type": "markdown",
   "metadata": {},
   "source": [
    "**Summary and overview of the data:**"
   ]
  },
  {
   "cell_type": "markdown",
   "metadata": {},
   "source": [
    "- This notebook is part of a project on mood variation as conditioned by adverbials in French as spoken in Metropolitan France. The purpose of the code included in this notebook is to build a `DataFrame` object from the `.txt` file containing the entirety of the *Corpus de Français Parlé Parisien* (CFPP2000). "
   ]
  },
  {
   "cell_type": "markdown",
   "metadata": {},
   "source": [
    "**Contents:**\n",
    "1. [Preparation](#1.-Preparation)  includes the necessary preparations.\n",
    "2. [Corpus processing](#2.-Corpus-processing)  includes code for loading the files, turning them into a data frame, and cleaning them using one of the `.txt` files as a sample.\n",
    "3. [Data frame building](#3.-Data-frame-building)  includes code for performing operations on the processed corpus to turn the data into a manageable data frame. The resulting data frame is stored as a `.pkl` file in case further processing is needed."
   ]
  },
  {
   "cell_type": "markdown",
   "metadata": {},
   "source": [
    "## 1. Preparation"
   ]
  },
  {
   "cell_type": "markdown",
   "metadata": {},
   "source": [
    "- Loading libraries and additional settings:"
   ]
  },
  {
   "cell_type": "code",
   "execution_count": 1,
   "metadata": {},
   "outputs": [
    {
     "name": "stdout",
     "output_type": "stream",
     "text": [
      "Pretty printing has been turned OFF\n"
     ]
    }
   ],
   "source": [
    "#Importing libraries\n",
    "import pandas as pd\n",
    "import numpy as np\n",
    "\n",
    "#Turning pretty print off:\n",
    "%pprint\n",
    "\n",
    "#Releasing all output:                                            \n",
    "from IPython.core.interactiveshell import InteractiveShell #Prints all commands rather than the last one.\n",
    "InteractiveShell.ast_node_interactivity = \"all\""
   ]
  },
  {
   "cell_type": "markdown",
   "metadata": {},
   "source": [
    "## 2. Corpus processing"
   ]
  },
  {
   "cell_type": "markdown",
   "metadata": {},
   "source": [
    "- I'm going to first load the `.txt` file by lines. Then process it so that I get lines that are only speech rather than tags (starting with \"<\"). The last step will be to extract concordances containing the adverbails of interest (\"*quand*\", \"*tandis que*\", \"*avant que*\", \"*jusqu'à ce que*\")."
   ]
  },
  {
   "cell_type": "code",
   "execution_count": 2,
   "metadata": {},
   "outputs": [],
   "source": [
    "#Open file and extract lines as a list\n",
    "\n",
    "fname = \"./data/cfpp2000-v42-utf8.txt\"\n",
    "\n",
    "with open(fname, encoding=\"utf8\") as corpus:             #UTF-8 encoding included so special characters are kept.\n",
    "    lines = corpus.readlines()"
   ]
  },
  {
   "cell_type": "code",
   "execution_count": 3,
   "metadata": {},
   "outputs": [],
   "source": [
    "#Stip new line character from elements of list\n",
    "\n",
    "concordances = [] #Create new list because otherwise it returns results to the shell\n",
    "\n",
    "for line in lines:\n",
    "    concordances.append(line.strip())"
   ]
  },
  {
   "cell_type": "code",
   "execution_count": 4,
   "metadata": {},
   "outputs": [
    {
     "name": "stdout",
     "output_type": "stream",
     "text": [
      "There are: 189845 concordances.\n",
      "---Sample---\n",
      "<quartier=\"03\">\n",
      "<transc=\"03-01\">\n",
      "<user=\"Ozgur_Kilic_H_32_alii_3e (1)\">\n",
      "<speaker=\"spk1_03-01\">\n",
      "vous pouvez la reposer encore si vous voulez §\n",
      "</speaker>\n",
      "<speaker=\"spk2_03-01\">\n",
      "non  §\n",
      "vous l'avez entendue deux fois ça suffit §\n",
      "</speaker>\n"
     ]
    }
   ],
   "source": [
    "#Verifying results\n",
    "\n",
    "print(\"There are:\",len(concordances),\"concordances.\")\n",
    "\n",
    "#Sample of first ten lines\n",
    "\n",
    "print(\"---Sample---\")\n",
    "for line in concordances[:10]: print(line)"
   ]
  },
  {
   "cell_type": "markdown",
   "metadata": {},
   "source": [
    "- As can be seen from the sample, there are tags related to matters such as the speaker or the location where the data were collected. As we're mainly interested on the speech for this task, we'll remove the tags and keep only speech tokens:"
   ]
  },
  {
   "cell_type": "code",
   "execution_count": 5,
   "metadata": {},
   "outputs": [],
   "source": [
    "#Extract only speech (no tags)\n",
    "\n",
    "tokens = []\n",
    "\n",
    "for line in concordances:\n",
    "    if line[0] != \"<\":            #Line does not start with \"<\"\n",
    "        tokens.append(line)"
   ]
  },
  {
   "cell_type": "code",
   "execution_count": 6,
   "metadata": {},
   "outputs": [
    {
     "name": "stdout",
     "output_type": "stream",
     "text": [
      "There are: 91714 concordances.\n",
      "---Sample---\n",
      "vous pouvez la reposer encore si vous voulez §\n",
      "non  §\n",
      "vous l'avez entendue deux fois ça suffit §\n",
      "tchin tchin §\n",
      "comment on s'est rencontrés §\n",
      "bah §\n",
      "bah les deux c'est  §\n",
      "ça §\n",
      "simple §\n",
      "là avec Steve bah c'est mon frère donc euh tchk §\n"
     ]
    }
   ],
   "source": [
    "#Verifying result\n",
    "\n",
    "print(\"There are:\",len(tokens),\"concordances.\")\n",
    "\n",
    "#Sample\n",
    "\n",
    "print(\"---Sample---\")\n",
    "for line in tokens[:10]: print(line)"
   ]
  },
  {
   "cell_type": "markdown",
   "metadata": {},
   "source": [
    "- We'll now build individual lists for adverbs of interest. Now that there is a list for regular spelling and another list for alternative (contracted or capital case) spellings:"
   ]
  },
  {
   "cell_type": "code",
   "execution_count": 7,
   "metadata": {},
   "outputs": [],
   "source": [
    "#Regular\n",
    "\n",
    "avant = [line for line in tokens if \"avant que\" in line]\n",
    "tandis = [line for line in tokens if 'tandis que' in line]\n",
    "jusque = [line for line in tokens if \"jusqu'à ce que\" in line]\n",
    "quand = [line for line in tokens if \"quand\" in line]\n",
    "\n",
    "#Alternative\n",
    "\n",
    "avant_alt = [line for line in tokens if \"avant qu'\" in line]        \n",
    "tandis_alt = [line for line in tokens if \"tandis qu'\" in line]\n",
    "jusque_alt = [line for line in tokens if \"jusqu'à ce qu'\" in line]\n",
    "quand_alt = [line for line in tokens if \"Quand\" in line]"
   ]
  },
  {
   "cell_type": "code",
   "execution_count": 8,
   "metadata": {},
   "outputs": [
    {
     "name": "stdout",
     "output_type": "stream",
     "text": [
      "Original spelling\n"
     ]
    },
    {
     "data": {
      "text/plain": [
       "10"
      ]
     },
     "execution_count": 8,
     "metadata": {},
     "output_type": "execute_result"
    },
    {
     "data": {
      "text/plain": [
       "28"
      ]
     },
     "execution_count": 8,
     "metadata": {},
     "output_type": "execute_result"
    },
    {
     "data": {
      "text/plain": [
       "4"
      ]
     },
     "execution_count": 8,
     "metadata": {},
     "output_type": "execute_result"
    },
    {
     "data": {
      "text/plain": [
       "3190"
      ]
     },
     "execution_count": 8,
     "metadata": {},
     "output_type": "execute_result"
    },
    {
     "name": "stdout",
     "output_type": "stream",
     "text": [
      "Alternative\n"
     ]
    },
    {
     "data": {
      "text/plain": [
       "5"
      ]
     },
     "execution_count": 8,
     "metadata": {},
     "output_type": "execute_result"
    },
    {
     "data": {
      "text/plain": [
       "1"
      ]
     },
     "execution_count": 8,
     "metadata": {},
     "output_type": "execute_result"
    },
    {
     "data": {
      "text/plain": [
       "3"
      ]
     },
     "execution_count": 8,
     "metadata": {},
     "output_type": "execute_result"
    },
    {
     "data": {
      "text/plain": [
       "4"
      ]
     },
     "execution_count": 8,
     "metadata": {},
     "output_type": "execute_result"
    }
   ],
   "source": [
    "#Verify length of each list\n",
    "\n",
    "print(\"Original spelling\")\n",
    "len(avant)\n",
    "len(tandis)\n",
    "len(jusque)\n",
    "len(quand)\n",
    "print(\"Alternative\")\n",
    "len(avant_alt)\n",
    "len(tandis_alt)\n",
    "len(jusque_alt)\n",
    "len(quand_alt)"
   ]
  },
  {
   "cell_type": "markdown",
   "metadata": {},
   "source": [
    "- Let's clean up \"quand\" a little bit since aboout half of the list is made up of the expression \"quand même\", which doesn't correspond to the construction of interest:"
   ]
  },
  {
   "cell_type": "code",
   "execution_count": 9,
   "metadata": {},
   "outputs": [],
   "source": [
    "quand = [line for line in quand if \"quand même\" not in line] #Removing a extraneous fairly known expression\n",
    "quand_alt = [line for line in quand_alt if \"quand même\" not in line] "
   ]
  },
  {
   "cell_type": "code",
   "execution_count": 10,
   "metadata": {},
   "outputs": [
    {
     "data": {
      "text/plain": [
       "1705"
      ]
     },
     "execution_count": 10,
     "metadata": {},
     "output_type": "execute_result"
    },
    {
     "data": {
      "text/plain": [
       "4"
      ]
     },
     "execution_count": 10,
     "metadata": {},
     "output_type": "execute_result"
    },
    {
     "name": "stdout",
     "output_type": "stream",
     "text": [
      "---Sample---\n",
      "et quand on a redoublé tous les deux on s'est retrouvés plus  §\n",
      "collège Montgolfier lycée Turgot quand on s'est rencontrés §\n",
      "et même quand on avait dix-sept dix-huit enfin seize dix-sept dix-huit on était contents d'être là-bas on le kiffait bien le troisième §\n",
      "nous quand on est partis §\n",
      "et quand euh quand la mère de Steve a acheté ou quand mes parents ont acheté euh c'était un quartier il y avait encore les Halles c'était  §\n",
      "enfin moi aujourd'hui j- je vois abso- absolument plus de vie de quartier alors que quand j'étais gamin  §\n",
      "euh quand j'étais gamin il y avait pas vraiment de vie de quartier c'est-à-dire que je descendais de chez moi je vois il y avait une boulangerie  §\n",
      "non parce que je bah quand j'y repasse en fait j'y repasse pas souvent mais quand j'y repasse euh je sais pas c'est peut-être un peu de nostalgie aussi hein c'est c'est juste ça mais  §\n",
      "c'est c'était dans une école et donc la cafèt ça donnait euh sur rue et donc voilà on se voyait quand il y avait des gens dans la cafèt et qu'on croisait des gens  §\n",
      "quand on était petits  §\n"
     ]
    }
   ],
   "source": [
    "#Verify results\n",
    "\n",
    "len(quand)\n",
    "len(quand_alt) #None here since the total stays the same\n",
    "\n",
    "#Sample\n",
    "print(\"---Sample---\")\n",
    "for line in quand[:10]: print(line)"
   ]
  },
  {
   "cell_type": "markdown",
   "metadata": {},
   "source": [
    "- Merging the lists before moving to the next step:"
   ]
  },
  {
   "cell_type": "code",
   "execution_count": 11,
   "metadata": {},
   "outputs": [
    {
     "data": {
      "text/plain": [
       "15"
      ]
     },
     "execution_count": 11,
     "metadata": {},
     "output_type": "execute_result"
    },
    {
     "data": {
      "text/plain": [
       "29"
      ]
     },
     "execution_count": 11,
     "metadata": {},
     "output_type": "execute_result"
    },
    {
     "data": {
      "text/plain": [
       "7"
      ]
     },
     "execution_count": 11,
     "metadata": {},
     "output_type": "execute_result"
    },
    {
     "data": {
      "text/plain": [
       "1709"
      ]
     },
     "execution_count": 11,
     "metadata": {},
     "output_type": "execute_result"
    }
   ],
   "source": [
    "#Merge\n",
    "\n",
    "avant.extend(avant_alt) #Using .extend because otherwise it would append the list and not the elements thereof\n",
    "tandis.extend(tandis_alt)\n",
    "jusque.extend(jusque_alt)\n",
    "quand.extend(quand_alt)\n",
    "\n",
    "#Verify lengths\n",
    "\n",
    "len(avant)\n",
    "len(tandis)\n",
    "len(jusque)\n",
    "len(quand)"
   ]
  },
  {
   "cell_type": "markdown",
   "metadata": {},
   "source": [
    "## 3. Data frame building"
   ]
  },
  {
   "cell_type": "code",
   "execution_count": 12,
   "metadata": {},
   "outputs": [],
   "source": [
    "# Building individual data frames to do some preliminary tagging\n",
    "\n",
    "avant_df = pd.DataFrame(avant,columns=[\"concordance\"])\n",
    "tandis_df = pd.DataFrame(tandis,columns=[\"concordance\"])\n",
    "jusque_df = pd.DataFrame(jusque,columns=[\"concordance\"])\n",
    "quand_df = pd.DataFrame(quand,columns=[\"concordance\"])"
   ]
  },
  {
   "cell_type": "code",
   "execution_count": 13,
   "metadata": {},
   "outputs": [],
   "source": [
    "#Tagging for adverbial\n",
    "\n",
    "avant_df[\"adverbial\"] = \"avant que\"\n",
    "tandis_df[\"adverbial\"] = \"tandis que\"\n",
    "jusque_df[\"adverbial\"] = \"jusqu'à ce que\"\n",
    "quand_df[\"adverbial\"] = \"quand\""
   ]
  },
  {
   "cell_type": "code",
   "execution_count": 14,
   "metadata": {},
   "outputs": [],
   "source": [
    "#Merging data frames. They will be sorted in the same order\n",
    "\n",
    "adverbials_df = pd.concat([avant_df, tandis_df, jusque_df, quand_df], ignore_index=True)"
   ]
  },
  {
   "cell_type": "code",
   "execution_count": 15,
   "metadata": {},
   "outputs": [],
   "source": [
    "#Tagging for corpus and mood (using the indicative as a default, which will be revised later in manual coding)\n",
    "\n",
    "adverbials_df[\"corpus\"] = \"CFPP200\"\n",
    "adverbials_df[\"mood\"] = \"indicative\" "
   ]
  },
  {
   "cell_type": "code",
   "execution_count": 16,
   "metadata": {},
   "outputs": [
    {
     "data": {
      "text/html": [
       "<div>\n",
       "<style scoped>\n",
       "    .dataframe tbody tr th:only-of-type {\n",
       "        vertical-align: middle;\n",
       "    }\n",
       "\n",
       "    .dataframe tbody tr th {\n",
       "        vertical-align: top;\n",
       "    }\n",
       "\n",
       "    .dataframe thead th {\n",
       "        text-align: right;\n",
       "    }\n",
       "</style>\n",
       "<table border=\"1\" class=\"dataframe\">\n",
       "  <thead>\n",
       "    <tr style=\"text-align: right;\">\n",
       "      <th></th>\n",
       "      <th>concordance</th>\n",
       "      <th>adverbial</th>\n",
       "      <th>corpus</th>\n",
       "      <th>mood</th>\n",
       "    </tr>\n",
       "  </thead>\n",
       "  <tbody>\n",
       "    <tr>\n",
       "      <th>0</th>\n",
       "      <td>avant que ça  §</td>\n",
       "      <td>avant que</td>\n",
       "      <td>CFPP200</td>\n",
       "      <td>indicative</td>\n",
       "    </tr>\n",
       "    <tr>\n",
       "      <th>1</th>\n",
       "      <td>avant que Casino prenne la place à l'époque où...</td>\n",
       "      <td>avant que</td>\n",
       "      <td>CFPP200</td>\n",
       "      <td>indicative</td>\n",
       "    </tr>\n",
       "    <tr>\n",
       "      <th>2</th>\n",
       "      <td>pas avant plusieurs années   pas avant que ça ...</td>\n",
       "      <td>avant que</td>\n",
       "      <td>CFPP200</td>\n",
       "      <td>indicative</td>\n",
       "    </tr>\n",
       "    <tr>\n",
       "      <th>3</th>\n",
       "      <td>avant que ce soit rendu à la ville dans les an...</td>\n",
       "      <td>avant que</td>\n",
       "      <td>CFPP200</td>\n",
       "      <td>indicative</td>\n",
       "    </tr>\n",
       "    <tr>\n",
       "      <th>4</th>\n",
       "      <td>et voyez malgré tout euh on s'en sort mais on ...</td>\n",
       "      <td>avant que</td>\n",
       "      <td>CFPP200</td>\n",
       "      <td>indicative</td>\n",
       "    </tr>\n",
       "    <tr>\n",
       "      <th>...</th>\n",
       "      <td>...</td>\n",
       "      <td>...</td>\n",
       "      <td>...</td>\n",
       "      <td>...</td>\n",
       "    </tr>\n",
       "    <tr>\n",
       "      <th>1755</th>\n",
       "      <td>quand on y est depuis septembre 2003   donc ça...</td>\n",
       "      <td>quand</td>\n",
       "      <td>CFPP200</td>\n",
       "      <td>indicative</td>\n",
       "    </tr>\n",
       "    <tr>\n",
       "      <th>1756</th>\n",
       "      <td>et dans une famille communisante on allait voi...</td>\n",
       "      <td>quand</td>\n",
       "      <td>CFPP200</td>\n",
       "      <td>indicative</td>\n",
       "    </tr>\n",
       "    <tr>\n",
       "      <th>1757</th>\n",
       "      <td>ah Quand passent  §</td>\n",
       "      <td>quand</td>\n",
       "      <td>CFPP200</td>\n",
       "      <td>indicative</td>\n",
       "    </tr>\n",
       "    <tr>\n",
       "      <th>1758</th>\n",
       "      <td>ah Quand passent les  §</td>\n",
       "      <td>quand</td>\n",
       "      <td>CFPP200</td>\n",
       "      <td>indicative</td>\n",
       "    </tr>\n",
       "    <tr>\n",
       "      <th>1759</th>\n",
       "      <td>on allait voir euh Quand- on avait été voir Qu...</td>\n",
       "      <td>quand</td>\n",
       "      <td>CFPP200</td>\n",
       "      <td>indicative</td>\n",
       "    </tr>\n",
       "  </tbody>\n",
       "</table>\n",
       "<p>1760 rows × 4 columns</p>\n",
       "</div>"
      ],
      "text/plain": [
       "                                            concordance  adverbial   corpus  \\\n",
       "0                                       avant que ça  §  avant que  CFPP200   \n",
       "1     avant que Casino prenne la place à l'époque où...  avant que  CFPP200   \n",
       "2     pas avant plusieurs années   pas avant que ça ...  avant que  CFPP200   \n",
       "3     avant que ce soit rendu à la ville dans les an...  avant que  CFPP200   \n",
       "4     et voyez malgré tout euh on s'en sort mais on ...  avant que  CFPP200   \n",
       "...                                                 ...        ...      ...   \n",
       "1755  quand on y est depuis septembre 2003   donc ça...      quand  CFPP200   \n",
       "1756  et dans une famille communisante on allait voi...      quand  CFPP200   \n",
       "1757                                ah Quand passent  §      quand  CFPP200   \n",
       "1758                            ah Quand passent les  §      quand  CFPP200   \n",
       "1759  on allait voir euh Quand- on avait été voir Qu...      quand  CFPP200   \n",
       "\n",
       "            mood  \n",
       "0     indicative  \n",
       "1     indicative  \n",
       "2     indicative  \n",
       "3     indicative  \n",
       "4     indicative  \n",
       "...          ...  \n",
       "1755  indicative  \n",
       "1756  indicative  \n",
       "1757  indicative  \n",
       "1758  indicative  \n",
       "1759  indicative  \n",
       "\n",
       "[1760 rows x 4 columns]"
      ]
     },
     "execution_count": 16,
     "metadata": {},
     "output_type": "execute_result"
    }
   ],
   "source": [
    "#Previewing\n",
    "\n",
    "adverbials_df #First and last five"
   ]
  },
  {
   "cell_type": "markdown",
   "metadata": {},
   "source": [
    "- Saving result as `.csv` file:"
   ]
  },
  {
   "cell_type": "code",
   "execution_count": 17,
   "metadata": {},
   "outputs": [],
   "source": [
    "adverbials_df.to_csv(\"./data/adverbials_df.csv\", encoding=\"utf-8-sig\", header=0, index=True) #Note the encoding"
   ]
  },
  {
   "cell_type": "markdown",
   "metadata": {},
   "source": [
    "- Pickling file for use in follow-up notebook:"
   ]
  },
  {
   "cell_type": "code",
   "execution_count": 18,
   "metadata": {},
   "outputs": [],
   "source": [
    "adverbials_df.to_pickle(\"./data/adverbials_df.pkl\")"
   ]
  }
 ],
 "metadata": {
  "kernelspec": {
   "display_name": "Python 3",
   "language": "python",
   "name": "python3"
  },
  "language_info": {
   "codemirror_mode": {
    "name": "ipython",
    "version": 3
   },
   "file_extension": ".py",
   "mimetype": "text/x-python",
   "name": "python",
   "nbconvert_exporter": "python",
   "pygments_lexer": "ipython3",
   "version": "3.8.3"
  }
 },
 "nbformat": 4,
 "nbformat_minor": 4
}
