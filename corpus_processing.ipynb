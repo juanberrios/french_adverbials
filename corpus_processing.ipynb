{
 "cells": [
  {
   "cell_type": "markdown",
   "metadata": {},
   "source": [
    "# French adverbials and subjuntive use\n",
    "Juan Berrios | juanberrios@pitt.edu | Last updated: April 21, 2021"
   ]
  },
  {
   "cell_type": "markdown",
   "metadata": {},
   "source": [
    "**Summary and overview of the data:**"
   ]
  },
  {
   "cell_type": "markdown",
   "metadata": {},
   "source": [
    "- This is part of a project of mood variation conditioned by adverbials in French as spoken in Metropolitan France. The purpose of the code included in this notebook is to build a `DataFrame` object from the `.txt` file containing the entirety of the Corpus de Français Parlé Parisien (CFPP2000). "
   ]
  },
  {
   "cell_type": "markdown",
   "metadata": {},
   "source": [
    "**Contents:**\n",
    "1. [Preparation](#1.-Preparation)  includes the necessary preparations.\n",
    "2. [Loading files](#2.-Loading-files)  includes code for loading the files, turning them into a data frame, and cleaning them using one of the `.txt` files as a sample.\n",
    "3. [Processing corpus directories](#3.-Processing-corpus-directories)  includes code for performing the operations on a corpus directory containing all the text files for Argentinean Spanish. The resulting data frames is stored as a `.pkl` file in case further processing is needed."
   ]
  },
  {
   "cell_type": "markdown",
   "metadata": {},
   "source": [
    "## 1. Preparation"
   ]
  },
  {
   "cell_type": "markdown",
   "metadata": {},
   "source": [
    "- Loading libraries and additional settings:"
   ]
  },
  {
   "cell_type": "code",
   "execution_count": 1,
   "metadata": {},
   "outputs": [
    {
     "name": "stdout",
     "output_type": "stream",
     "text": [
      "Pretty printing has been turned OFF\n"
     ]
    }
   ],
   "source": [
    "#Importing libraries\n",
    "import glob, pickle, re\n",
    "import pandas as pd\n",
    "import numpy as np\n",
    "import os\n",
    "\n",
    "#Turning pretty print off:\n",
    "%pprint\n",
    "\n",
    "#Releasing all output:                                            \n",
    "from IPython.core.interactiveshell import InteractiveShell #Prints all commands rather than the last one.\n",
    "InteractiveShell.ast_node_interactivity = \"all\""
   ]
  },
  {
   "cell_type": "markdown",
   "metadata": {},
   "source": [
    "## 2. Loading files"
   ]
  },
  {
   "cell_type": "markdown",
   "metadata": {},
   "source": [
    "- The `.txt` files are very large. For testing purposes, I'll use only one of them as a start. The files are also tab-delimited. The columns correspond to an ID for the source text, an ID for the token, the token (word), the lemma, and the POS. I will hence use those for column names. "
   ]
  },
  {
   "cell_type": "code",
   "execution_count": 2,
   "metadata": {},
   "outputs": [
    {
     "data": {
      "text/plain": [
       "'C:\\\\Users\\\\Juan\\\\Documents\\\\code\\\\research\\\\french_adverbials'"
      ]
     },
     "execution_count": 2,
     "metadata": {},
     "output_type": "execute_result"
    }
   ],
   "source": [
    "os.getcwd()"
   ]
  },
  {
   "cell_type": "code",
   "execution_count": 3,
   "metadata": {},
   "outputs": [],
   "source": [
    "fname = 'C:/Users/Juan/Documents/code/research/french_adverbials/data/cfpp2000-v42-utf8.txt'\n",
    "\n",
    "with open(fname) as corpus:\n",
    "    lines = corpus.readlines()"
   ]
  },
  {
   "cell_type": "code",
   "execution_count": 4,
   "metadata": {},
   "outputs": [],
   "source": [
    "concordances = []\n",
    "\n",
    "for line in lines:\n",
    "    concordances.append(line.strip())"
   ]
  },
  {
   "cell_type": "code",
   "execution_count": 5,
   "metadata": {},
   "outputs": [
    {
     "data": {
      "text/plain": [
       "189845"
      ]
     },
     "execution_count": 5,
     "metadata": {},
     "output_type": "execute_result"
    },
    {
     "data": {
      "text/plain": [
       "<class 'list'>"
      ]
     },
     "execution_count": 5,
     "metadata": {},
     "output_type": "execute_result"
    }
   ],
   "source": [
    "len(concordances)\n",
    "type(concordances)"
   ]
  },
  {
   "cell_type": "code",
   "execution_count": 6,
   "metadata": {},
   "outputs": [
    {
     "name": "stdout",
     "output_type": "stream",
     "text": [
      "<quartier=\"03\">\n",
      "<transc=\"03-01\">\n",
      "<user=\"Ozgur_Kilic_H_32_alii_3e (1)\">\n",
      "<speaker=\"spk1_03-01\">\n",
      "vous pouvez la reposer encore si vous voulez Â§\n",
      "</speaker>\n",
      "<speaker=\"spk2_03-01\">\n",
      "non  Â§\n",
      "vous l'avez entendue deux fois Ã§a suffit Â§\n",
      "</speaker>\n"
     ]
    }
   ],
   "source": [
    "for line in concordances[:10]: print(line)"
   ]
  },
  {
   "cell_type": "code",
   "execution_count": 7,
   "metadata": {},
   "outputs": [],
   "source": [
    "tokens = []\n",
    "\n",
    "for line in concordances:\n",
    "    if line[0] != '<':\n",
    "        tokens.append(line)"
   ]
  },
  {
   "cell_type": "code",
   "execution_count": 8,
   "metadata": {},
   "outputs": [
    {
     "data": {
      "text/plain": [
       "91714"
      ]
     },
     "execution_count": 8,
     "metadata": {},
     "output_type": "execute_result"
    }
   ],
   "source": [
    "len(tokens)"
   ]
  },
  {
   "cell_type": "code",
   "execution_count": 9,
   "metadata": {},
   "outputs": [
    {
     "name": "stdout",
     "output_type": "stream",
     "text": [
      "vous pouvez la reposer encore si vous voulez Â§\n",
      "non  Â§\n",
      "vous l'avez entendue deux fois Ã§a suffit Â§\n",
      "tchin tchin Â§\n",
      "comment on s'est rencontrÃ©s Â§\n",
      "bah Â§\n",
      "bah les deux c'est  Â§\n",
      "Ã§a Â§\n",
      "simple Â§\n",
      "lÃ  avec Steve bah c'est mon frÃ¨re donc euh tchk Â§\n"
     ]
    }
   ],
   "source": [
    "for line in tokens[:10]: print(line)"
   ]
  },
  {
   "cell_type": "code",
   "execution_count": 10,
   "metadata": {},
   "outputs": [],
   "source": [
    "quand = [line for line in tokens if 'quand' in line]\n",
    "avant = [line for line in tokens if \"avant que\" in line]\n",
    "jusqua = [line for line in tokens if \"jusqu'Ã ce que\" in line]\n",
    "tandis = [line for line in tokens if 'tandis que' in line]"
   ]
  },
  {
   "cell_type": "code",
   "execution_count": 11,
   "metadata": {},
   "outputs": [
    {
     "data": {
      "text/plain": [
       "3190"
      ]
     },
     "execution_count": 11,
     "metadata": {},
     "output_type": "execute_result"
    },
    {
     "data": {
      "text/plain": [
       "10"
      ]
     },
     "execution_count": 11,
     "metadata": {},
     "output_type": "execute_result"
    },
    {
     "data": {
      "text/plain": [
       "0"
      ]
     },
     "execution_count": 11,
     "metadata": {},
     "output_type": "execute_result"
    },
    {
     "data": {
      "text/plain": [
       "28"
      ]
     },
     "execution_count": 11,
     "metadata": {},
     "output_type": "execute_result"
    }
   ],
   "source": [
    "len(quand)\n",
    "len(avant)\n",
    "len(jusqua)\n",
    "len(tandis)"
   ]
  },
  {
   "cell_type": "code",
   "execution_count": 12,
   "metadata": {},
   "outputs": [],
   "source": [
    "quand = [line for line in quand if 'quand mÃªme' not in line] #Removing a extraneous fairly known expression"
   ]
  },
  {
   "cell_type": "code",
   "execution_count": 13,
   "metadata": {},
   "outputs": [
    {
     "data": {
      "text/plain": [
       "1705"
      ]
     },
     "execution_count": 13,
     "metadata": {},
     "output_type": "execute_result"
    }
   ],
   "source": [
    "len(quand)"
   ]
  },
  {
   "cell_type": "markdown",
   "metadata": {},
   "source": [
    "## 3. Processing corpus directories"
   ]
  },
  {
   "cell_type": "code",
   "execution_count": 14,
   "metadata": {},
   "outputs": [],
   "source": [
    "quand_df = pd.DataFrame(quand,columns=['concordance'])\n",
    "avant_df = pd.DataFrame(avant,columns=['concordance'])\n",
    "tandis_df = pd.DataFrame(tandis,columns=['concordance'])"
   ]
  },
  {
   "cell_type": "code",
   "execution_count": 15,
   "metadata": {},
   "outputs": [],
   "source": [
    "quand_df['adverbial'] = 'quand'\n",
    "avant_df['adverbial'] = 'avant que'\n",
    "tandis_df['adverbial'] = 'tandis que'"
   ]
  },
  {
   "cell_type": "code",
   "execution_count": 16,
   "metadata": {},
   "outputs": [],
   "source": [
    "adverbials_df = pd.concat([quand_df, avant_df, tandis_df], ignore_index=True)"
   ]
  },
  {
   "cell_type": "code",
   "execution_count": 17,
   "metadata": {},
   "outputs": [],
   "source": [
    "adverbials_df['mood'] = 'subjunctive' \n",
    "adverbials_df['tense'] = 'present indicative' \n",
    "adverbials_df['corpus'] = 'CFPP200' "
   ]
  },
  {
   "cell_type": "code",
   "execution_count": 18,
   "metadata": {},
   "outputs": [
    {
     "data": {
      "text/html": [
       "<div>\n",
       "<style scoped>\n",
       "    .dataframe tbody tr th:only-of-type {\n",
       "        vertical-align: middle;\n",
       "    }\n",
       "\n",
       "    .dataframe tbody tr th {\n",
       "        vertical-align: top;\n",
       "    }\n",
       "\n",
       "    .dataframe thead th {\n",
       "        text-align: right;\n",
       "    }\n",
       "</style>\n",
       "<table border=\"1\" class=\"dataframe\">\n",
       "  <thead>\n",
       "    <tr style=\"text-align: right;\">\n",
       "      <th></th>\n",
       "      <th>concordance</th>\n",
       "      <th>adverbial</th>\n",
       "      <th>mood</th>\n",
       "      <th>tense</th>\n",
       "      <th>corpus</th>\n",
       "    </tr>\n",
       "  </thead>\n",
       "  <tbody>\n",
       "    <tr>\n",
       "      <th>0</th>\n",
       "      <td>et quand on a redoublÃ© tous les deux on s'est...</td>\n",
       "      <td>quand</td>\n",
       "      <td>subjunctive</td>\n",
       "      <td>present indicative</td>\n",
       "      <td>CFPP200</td>\n",
       "    </tr>\n",
       "    <tr>\n",
       "      <th>1</th>\n",
       "      <td>collÃ¨ge Montgolfier lycÃ©e Turgot quand on s'...</td>\n",
       "      <td>quand</td>\n",
       "      <td>subjunctive</td>\n",
       "      <td>present indicative</td>\n",
       "      <td>CFPP200</td>\n",
       "    </tr>\n",
       "    <tr>\n",
       "      <th>2</th>\n",
       "      <td>et mÃªme quand on avait dix-sept dix-huit enfi...</td>\n",
       "      <td>quand</td>\n",
       "      <td>subjunctive</td>\n",
       "      <td>present indicative</td>\n",
       "      <td>CFPP200</td>\n",
       "    </tr>\n",
       "    <tr>\n",
       "      <th>3</th>\n",
       "      <td>nous quand on est partis Â§</td>\n",
       "      <td>quand</td>\n",
       "      <td>subjunctive</td>\n",
       "      <td>present indicative</td>\n",
       "      <td>CFPP200</td>\n",
       "    </tr>\n",
       "    <tr>\n",
       "      <th>4</th>\n",
       "      <td>et quand euh quand la mÃ¨re de Steve a achetÃ©...</td>\n",
       "      <td>quand</td>\n",
       "      <td>subjunctive</td>\n",
       "      <td>present indicative</td>\n",
       "      <td>CFPP200</td>\n",
       "    </tr>\n",
       "    <tr>\n",
       "      <th>...</th>\n",
       "      <td>...</td>\n",
       "      <td>...</td>\n",
       "      <td>...</td>\n",
       "      <td>...</td>\n",
       "      <td>...</td>\n",
       "    </tr>\n",
       "    <tr>\n",
       "      <th>1738</th>\n",
       "      <td>quand on milite quelque part et qu'on s'aperÃ§...</td>\n",
       "      <td>tandis que</td>\n",
       "      <td>subjunctive</td>\n",
       "      <td>present indicative</td>\n",
       "      <td>CFPP200</td>\n",
       "    </tr>\n",
       "    <tr>\n",
       "      <th>1739</th>\n",
       "      <td>lÃ  c'est entre deux quartiers peut-Ãªtre de v...</td>\n",
       "      <td>tandis que</td>\n",
       "      <td>subjunctive</td>\n",
       "      <td>present indicative</td>\n",
       "      <td>CFPP200</td>\n",
       "    </tr>\n",
       "    <tr>\n",
       "      <th>1740</th>\n",
       "      <td>le parc le parc des Guilands c'est le parc des...</td>\n",
       "      <td>tandis que</td>\n",
       "      <td>subjunctive</td>\n",
       "      <td>present indicative</td>\n",
       "      <td>CFPP200</td>\n",
       "    </tr>\n",
       "    <tr>\n",
       "      <th>1741</th>\n",
       "      <td>madame est nÃ©e tandis que moi je suis venue j...</td>\n",
       "      <td>tandis que</td>\n",
       "      <td>subjunctive</td>\n",
       "      <td>present indicative</td>\n",
       "      <td>CFPP200</td>\n",
       "    </tr>\n",
       "    <tr>\n",
       "      <th>1742</th>\n",
       "      <td>tandis que moi c'est l'agression parce que Â§</td>\n",
       "      <td>tandis que</td>\n",
       "      <td>subjunctive</td>\n",
       "      <td>present indicative</td>\n",
       "      <td>CFPP200</td>\n",
       "    </tr>\n",
       "  </tbody>\n",
       "</table>\n",
       "<p>1743 rows × 5 columns</p>\n",
       "</div>"
      ],
      "text/plain": [
       "                                            concordance   adverbial  \\\n",
       "0     et quand on a redoublÃ© tous les deux on s'est...       quand   \n",
       "1     collÃ¨ge Montgolfier lycÃ©e Turgot quand on s'...       quand   \n",
       "2     et mÃªme quand on avait dix-sept dix-huit enfi...       quand   \n",
       "3                           nous quand on est partis Â§       quand   \n",
       "4     et quand euh quand la mÃ¨re de Steve a achetÃ©...       quand   \n",
       "...                                                 ...         ...   \n",
       "1738  quand on milite quelque part et qu'on s'aperÃ§...  tandis que   \n",
       "1739  lÃ  c'est entre deux quartiers peut-Ãªtre de v...  tandis que   \n",
       "1740  le parc le parc des Guilands c'est le parc des...  tandis que   \n",
       "1741  madame est nÃ©e tandis que moi je suis venue j...  tandis que   \n",
       "1742      tandis que moi c'est l'agression parce que Â§  tandis que   \n",
       "\n",
       "             mood               tense   corpus  \n",
       "0     subjunctive  present indicative  CFPP200  \n",
       "1     subjunctive  present indicative  CFPP200  \n",
       "2     subjunctive  present indicative  CFPP200  \n",
       "3     subjunctive  present indicative  CFPP200  \n",
       "4     subjunctive  present indicative  CFPP200  \n",
       "...           ...                 ...      ...  \n",
       "1738  subjunctive  present indicative  CFPP200  \n",
       "1739  subjunctive  present indicative  CFPP200  \n",
       "1740  subjunctive  present indicative  CFPP200  \n",
       "1741  subjunctive  present indicative  CFPP200  \n",
       "1742  subjunctive  present indicative  CFPP200  \n",
       "\n",
       "[1743 rows x 5 columns]"
      ]
     },
     "execution_count": 18,
     "metadata": {},
     "output_type": "execute_result"
    }
   ],
   "source": [
    "adverbials_df"
   ]
  },
  {
   "cell_type": "code",
   "execution_count": 19,
   "metadata": {},
   "outputs": [],
   "source": [
    "adverbials_df.to_csv(r\"C:/Users/Juan/Documents/code/research/french_adverbials/data/adverbials_df.csv\", index=False)"
   ]
  }
 ],
 "metadata": {
  "kernelspec": {
   "display_name": "Python 3",
   "language": "python",
   "name": "python3"
  },
  "language_info": {
   "codemirror_mode": {
    "name": "ipython",
    "version": 3
   },
   "file_extension": ".py",
   "mimetype": "text/x-python",
   "name": "python",
   "nbconvert_exporter": "python",
   "pygments_lexer": "ipython3",
   "version": "3.8.3"
  }
 },
 "nbformat": 4,
 "nbformat_minor": 4
}
