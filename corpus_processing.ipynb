{
 "cells": [
  {
   "cell_type": "markdown",
   "metadata": {},
   "source": [
    "# French adverbials and subjuntive use\n",
    "Juan Berrios | juanberrios@pitt.edu | Last updated: April 21, 2021"
   ]
  },
  {
   "cell_type": "markdown",
   "metadata": {},
   "source": [
    "**Summary and overview of the data:**"
   ]
  },
  {
   "cell_type": "markdown",
   "metadata": {},
   "source": [
    "- This is part of a project of mood variation conditioned by adverbials in French as spoken in Metropolitan France. The purpose of the code included in this notebook is to build a `DataFrame` object from the `.txt` file containing the entirety of the Corpus de Français Parlé Parisien (CFPP2000). "
   ]
  },
  {
   "cell_type": "markdown",
   "metadata": {},
   "source": [
    "**Contents:**\n",
    "1. [Preparation](#1.-Preparation)  includes the necessary preparations.\n",
    "2. [Loading files](#2.-Loading-files)  includes code for loading the files, turning them into a data frame, and cleaning them using one of the `.txt` files as a sample.\n",
    "3. [Processing corpus directories](#3.-Processing-corpus-directories)  includes code for performing the operations on a corpus directory containing all the text files for Argentinean Spanish. The resulting data frames is stored as a `.pkl` file in case further processing is needed."
   ]
  },
  {
   "cell_type": "markdown",
   "metadata": {},
   "source": [
    "## 1. Preparation"
   ]
  },
  {
   "cell_type": "markdown",
   "metadata": {},
   "source": [
    "- Loading libraries and additional settings:"
   ]
  },
  {
   "cell_type": "code",
   "execution_count": 1,
   "metadata": {},
   "outputs": [
    {
     "name": "stdout",
     "output_type": "stream",
     "text": [
      "Pretty printing has been turned OFF\n"
     ]
    }
   ],
   "source": [
    "#Importing libraries\n",
    "import glob, pickle, re\n",
    "import pandas as pd\n",
    "import numpy as np\n",
    "\n",
    "#Turning pretty print off:\n",
    "%pprint\n",
    "\n",
    "#Releasing all output:                                            \n",
    "from IPython.core.interactiveshell import InteractiveShell #Prints all commands rather than the last one.\n",
    "InteractiveShell.ast_node_interactivity = \"all\""
   ]
  },
  {
   "cell_type": "markdown",
   "metadata": {},
   "source": [
    "## 2. Loading files"
   ]
  },
  {
   "cell_type": "markdown",
   "metadata": {},
   "source": [
    "- I'm going to first load the `.txt` file by lines. Then refine it so that I get lines that are only dialogues rather than tags. The last step will be to extract lines containing the adverbails of interest (\"quand\", \"tandis que\", \"avant\" que\", \"jusqu'à ce que\")."
   ]
  },
  {
   "cell_type": "code",
   "execution_count": 2,
   "metadata": {},
   "outputs": [],
   "source": [
    "#Open file and extract lines as a list\n",
    "\n",
    "fname = './data/cfpp2000-v42-utf8.txt'\n",
    "\n",
    "with open(fname, encoding='utf8') as corpus:             #UTF-8 encoding included so special characters are kept.\n",
    "    lines = corpus.readlines()"
   ]
  },
  {
   "cell_type": "code",
   "execution_count": 3,
   "metadata": {},
   "outputs": [],
   "source": [
    "#Stip new line character from elements of list\n",
    "\n",
    "concordances = []\n",
    "\n",
    "for line in lines:\n",
    "    concordances.append(line.strip())"
   ]
  },
  {
   "cell_type": "code",
   "execution_count": 4,
   "metadata": {},
   "outputs": [
    {
     "data": {
      "text/plain": [
       "189845"
      ]
     },
     "execution_count": 4,
     "metadata": {},
     "output_type": "execute_result"
    },
    {
     "data": {
      "text/plain": [
       "<class 'list'>"
      ]
     },
     "execution_count": 4,
     "metadata": {},
     "output_type": "execute_result"
    },
    {
     "name": "stdout",
     "output_type": "stream",
     "text": [
      "---Sample---\n",
      "<quartier=\"03\">\n",
      "<transc=\"03-01\">\n",
      "<user=\"Ozgur_Kilic_H_32_alii_3e (1)\">\n",
      "<speaker=\"spk1_03-01\">\n",
      "vous pouvez la reposer encore si vous voulez §\n",
      "</speaker>\n",
      "<speaker=\"spk2_03-01\">\n",
      "non  §\n",
      "vous l'avez entendue deux fois ça suffit §\n",
      "</speaker>\n"
     ]
    }
   ],
   "source": [
    "#Verifying results\n",
    "\n",
    "len(concordances)\n",
    "type(concordances)\n",
    "\n",
    "#Sample of first ten lines\n",
    "\n",
    "print('---Sample---')\n",
    "for line in concordances[:10]: print(line)"
   ]
  },
  {
   "cell_type": "code",
   "execution_count": 5,
   "metadata": {},
   "outputs": [],
   "source": [
    "#Extract tokens only (no tags)\n",
    "\n",
    "tokens = []\n",
    "\n",
    "for line in concordances:\n",
    "    if line[0] != '<':\n",
    "        tokens.append(line)"
   ]
  },
  {
   "cell_type": "code",
   "execution_count": 6,
   "metadata": {},
   "outputs": [
    {
     "data": {
      "text/plain": [
       "91714"
      ]
     },
     "execution_count": 6,
     "metadata": {},
     "output_type": "execute_result"
    },
    {
     "name": "stdout",
     "output_type": "stream",
     "text": [
      "---Sample---\n",
      "vous pouvez la reposer encore si vous voulez §\n",
      "non  §\n",
      "vous l'avez entendue deux fois ça suffit §\n",
      "tchin tchin §\n",
      "comment on s'est rencontrés §\n",
      "bah §\n",
      "bah les deux c'est  §\n",
      "ça §\n",
      "simple §\n",
      "là avec Steve bah c'est mon frère donc euh tchk §\n"
     ]
    }
   ],
   "source": [
    "#Verifying result\n",
    "\n",
    "len(tokens)\n",
    "\n",
    "#Sample\n",
    "\n",
    "print('---Sample---')\n",
    "for line in tokens[:10]: print(line)"
   ]
  },
  {
   "cell_type": "code",
   "execution_count": 7,
   "metadata": {},
   "outputs": [],
   "source": [
    "#Build individual lists for adverbs of interest\n",
    "\n",
    "quand = [line for line in tokens if 'quand' in line]\n",
    "avant = [line for line in tokens if \"avant que\" in line]\n",
    "jusqua = [line for line in tokens if \"jusqu'Ã ce que\" in line]\n",
    "tandis = [line for line in tokens if 'tandis que' in line]"
   ]
  },
  {
   "cell_type": "code",
   "execution_count": 8,
   "metadata": {},
   "outputs": [
    {
     "data": {
      "text/plain": [
       "3190"
      ]
     },
     "execution_count": 8,
     "metadata": {},
     "output_type": "execute_result"
    },
    {
     "data": {
      "text/plain": [
       "10"
      ]
     },
     "execution_count": 8,
     "metadata": {},
     "output_type": "execute_result"
    },
    {
     "data": {
      "text/plain": [
       "0"
      ]
     },
     "execution_count": 8,
     "metadata": {},
     "output_type": "execute_result"
    },
    {
     "data": {
      "text/plain": [
       "28"
      ]
     },
     "execution_count": 8,
     "metadata": {},
     "output_type": "execute_result"
    }
   ],
   "source": [
    "#Verify length of each list\n",
    "\n",
    "len(quand)\n",
    "len(avant)\n",
    "len(jusqua)\n",
    "len(tandis)"
   ]
  },
  {
   "cell_type": "markdown",
   "metadata": {},
   "source": [
    "- No hits for \"jusqu'à ce que\". Let's clean up quand a little bit since aboout half of the list is made up of the expression \"quand même\"."
   ]
  },
  {
   "cell_type": "code",
   "execution_count": 9,
   "metadata": {},
   "outputs": [],
   "source": [
    "quand = [line for line in quand if 'quand même' not in line] #Removing a extraneous fairly known expression"
   ]
  },
  {
   "cell_type": "code",
   "execution_count": 10,
   "metadata": {},
   "outputs": [
    {
     "data": {
      "text/plain": [
       "1705"
      ]
     },
     "execution_count": 10,
     "metadata": {},
     "output_type": "execute_result"
    },
    {
     "name": "stdout",
     "output_type": "stream",
     "text": [
      "---Sample---\n",
      "et quand on a redoublé tous les deux on s'est retrouvés plus  §\n",
      "collège Montgolfier lycée Turgot quand on s'est rencontrés §\n",
      "et même quand on avait dix-sept dix-huit enfin seize dix-sept dix-huit on était contents d'être là-bas on le kiffait bien le troisième §\n",
      "nous quand on est partis §\n",
      "et quand euh quand la mère de Steve a acheté ou quand mes parents ont acheté euh c'était un quartier il y avait encore les Halles c'était  §\n",
      "enfin moi aujourd'hui j- je vois abso- absolument plus de vie de quartier alors que quand j'étais gamin  §\n",
      "euh quand j'étais gamin il y avait pas vraiment de vie de quartier c'est-à-dire que je descendais de chez moi je vois il y avait une boulangerie  §\n",
      "non parce que je bah quand j'y repasse en fait j'y repasse pas souvent mais quand j'y repasse euh je sais pas c'est peut-être un peu de nostalgie aussi hein c'est c'est juste ça mais  §\n",
      "c'est c'était dans une école et donc la cafèt ça donnait euh sur rue et donc voilà on se voyait quand il y avait des gens dans la cafèt et qu'on croisait des gens  §\n",
      "quand on était petits  §\n"
     ]
    }
   ],
   "source": [
    "#Verify results\n",
    "\n",
    "len(quand)\n",
    "\n",
    "#Sample\n",
    "print('---Sample---')\n",
    "for line in quand[:10]: print(line)"
   ]
  },
  {
   "cell_type": "markdown",
   "metadata": {},
   "source": [
    "## 3. Processing corpus directories"
   ]
  },
  {
   "cell_type": "code",
   "execution_count": 11,
   "metadata": {},
   "outputs": [],
   "source": [
    "# Building individual data frames to do some preliminary tagging\n",
    "\n",
    "avant_df = pd.DataFrame(avant,columns=['concordance'])\n",
    "tandis_df = pd.DataFrame(tandis,columns=['concordance'])\n",
    "quand_df = pd.DataFrame(quand,columns=['concordance'])"
   ]
  },
  {
   "cell_type": "code",
   "execution_count": 12,
   "metadata": {},
   "outputs": [],
   "source": [
    "#Tagging for adverbial\n",
    "\n",
    "avant_df['adverbial'] = 'avant que'\n",
    "tandis_df['adverbial'] = 'tandis que'\n",
    "quand_df['adverbial'] = 'quand'"
   ]
  },
  {
   "cell_type": "code",
   "execution_count": 13,
   "metadata": {},
   "outputs": [],
   "source": [
    "#Merging data frames. They will be sorted in the same order\n",
    "\n",
    "adverbials_df = pd.concat([avant_df, tandis_df, quand_df], ignore_index=True)"
   ]
  },
  {
   "cell_type": "code",
   "execution_count": 14,
   "metadata": {},
   "outputs": [],
   "source": [
    "#Tagging for the most common categories that  will later modify manually\n",
    "\n",
    "adverbials_df['mood'] = 'subjunctive' \n",
    "adverbials_df['tense'] = 'present indicative' \n",
    "adverbials_df['corpus'] = 'CFPP200' "
   ]
  },
  {
   "cell_type": "code",
   "execution_count": 15,
   "metadata": {},
   "outputs": [
    {
     "data": {
      "text/html": [
       "<div>\n",
       "<style scoped>\n",
       "    .dataframe tbody tr th:only-of-type {\n",
       "        vertical-align: middle;\n",
       "    }\n",
       "\n",
       "    .dataframe tbody tr th {\n",
       "        vertical-align: top;\n",
       "    }\n",
       "\n",
       "    .dataframe thead th {\n",
       "        text-align: right;\n",
       "    }\n",
       "</style>\n",
       "<table border=\"1\" class=\"dataframe\">\n",
       "  <thead>\n",
       "    <tr style=\"text-align: right;\">\n",
       "      <th></th>\n",
       "      <th>concordance</th>\n",
       "      <th>adverbial</th>\n",
       "      <th>mood</th>\n",
       "      <th>tense</th>\n",
       "      <th>corpus</th>\n",
       "    </tr>\n",
       "  </thead>\n",
       "  <tbody>\n",
       "    <tr>\n",
       "      <th>0</th>\n",
       "      <td>avant que ça  §</td>\n",
       "      <td>avant que</td>\n",
       "      <td>subjunctive</td>\n",
       "      <td>present indicative</td>\n",
       "      <td>CFPP200</td>\n",
       "    </tr>\n",
       "    <tr>\n",
       "      <th>1</th>\n",
       "      <td>avant que Casino prenne la place à l'époque où...</td>\n",
       "      <td>avant que</td>\n",
       "      <td>subjunctive</td>\n",
       "      <td>present indicative</td>\n",
       "      <td>CFPP200</td>\n",
       "    </tr>\n",
       "    <tr>\n",
       "      <th>2</th>\n",
       "      <td>pas avant plusieurs années   pas avant que ça ...</td>\n",
       "      <td>avant que</td>\n",
       "      <td>subjunctive</td>\n",
       "      <td>present indicative</td>\n",
       "      <td>CFPP200</td>\n",
       "    </tr>\n",
       "    <tr>\n",
       "      <th>3</th>\n",
       "      <td>avant que ce soit rendu à la ville dans les an...</td>\n",
       "      <td>avant que</td>\n",
       "      <td>subjunctive</td>\n",
       "      <td>present indicative</td>\n",
       "      <td>CFPP200</td>\n",
       "    </tr>\n",
       "    <tr>\n",
       "      <th>4</th>\n",
       "      <td>et voyez malgré tout euh on s'en sort mais on ...</td>\n",
       "      <td>avant que</td>\n",
       "      <td>subjunctive</td>\n",
       "      <td>present indicative</td>\n",
       "      <td>CFPP200</td>\n",
       "    </tr>\n",
       "  </tbody>\n",
       "</table>\n",
       "</div>"
      ],
      "text/plain": [
       "                                         concordance  adverbial         mood  \\\n",
       "0                                    avant que ça  §  avant que  subjunctive   \n",
       "1  avant que Casino prenne la place à l'époque où...  avant que  subjunctive   \n",
       "2  pas avant plusieurs années   pas avant que ça ...  avant que  subjunctive   \n",
       "3  avant que ce soit rendu à la ville dans les an...  avant que  subjunctive   \n",
       "4  et voyez malgré tout euh on s'en sort mais on ...  avant que  subjunctive   \n",
       "\n",
       "                tense   corpus  \n",
       "0  present indicative  CFPP200  \n",
       "1  present indicative  CFPP200  \n",
       "2  present indicative  CFPP200  \n",
       "3  present indicative  CFPP200  \n",
       "4  present indicative  CFPP200  "
      ]
     },
     "execution_count": 15,
     "metadata": {},
     "output_type": "execute_result"
    },
    {
     "data": {
      "text/html": [
       "<div>\n",
       "<style scoped>\n",
       "    .dataframe tbody tr th:only-of-type {\n",
       "        vertical-align: middle;\n",
       "    }\n",
       "\n",
       "    .dataframe tbody tr th {\n",
       "        vertical-align: top;\n",
       "    }\n",
       "\n",
       "    .dataframe thead th {\n",
       "        text-align: right;\n",
       "    }\n",
       "</style>\n",
       "<table border=\"1\" class=\"dataframe\">\n",
       "  <thead>\n",
       "    <tr style=\"text-align: right;\">\n",
       "      <th></th>\n",
       "      <th>concordance</th>\n",
       "      <th>adverbial</th>\n",
       "      <th>mood</th>\n",
       "      <th>tense</th>\n",
       "      <th>corpus</th>\n",
       "    </tr>\n",
       "  </thead>\n",
       "  <tbody>\n",
       "    <tr>\n",
       "      <th>1738</th>\n",
       "      <td>voilà   mais après aussi ce qu'il faut savoir ...</td>\n",
       "      <td>quand</td>\n",
       "      <td>subjunctive</td>\n",
       "      <td>present indicative</td>\n",
       "      <td>CFPP200</td>\n",
       "    </tr>\n",
       "    <tr>\n",
       "      <th>1739</th>\n",
       "      <td>quand elle s'adresse à ses petites-filles §</td>\n",
       "      <td>quand</td>\n",
       "      <td>subjunctive</td>\n",
       "      <td>present indicative</td>\n",
       "      <td>CFPP200</td>\n",
       "    </tr>\n",
       "    <tr>\n",
       "      <th>1740</th>\n",
       "      <td>voilà ou pff   quand je vais dans la rue ou ou...</td>\n",
       "      <td>quand</td>\n",
       "      <td>subjunctive</td>\n",
       "      <td>present indicative</td>\n",
       "      <td>CFPP200</td>\n",
       "    </tr>\n",
       "    <tr>\n",
       "      <th>1741</th>\n",
       "      <td>ou enfin au moins pas anonymes quoi parce que ...</td>\n",
       "      <td>quand</td>\n",
       "      <td>subjunctive</td>\n",
       "      <td>present indicative</td>\n",
       "      <td>CFPP200</td>\n",
       "    </tr>\n",
       "    <tr>\n",
       "      <th>1742</th>\n",
       "      <td>quand on y est depuis septembre 2003   donc ça...</td>\n",
       "      <td>quand</td>\n",
       "      <td>subjunctive</td>\n",
       "      <td>present indicative</td>\n",
       "      <td>CFPP200</td>\n",
       "    </tr>\n",
       "  </tbody>\n",
       "</table>\n",
       "</div>"
      ],
      "text/plain": [
       "                                            concordance adverbial  \\\n",
       "1738  voilà   mais après aussi ce qu'il faut savoir ...     quand   \n",
       "1739        quand elle s'adresse à ses petites-filles §     quand   \n",
       "1740  voilà ou pff   quand je vais dans la rue ou ou...     quand   \n",
       "1741  ou enfin au moins pas anonymes quoi parce que ...     quand   \n",
       "1742  quand on y est depuis septembre 2003   donc ça...     quand   \n",
       "\n",
       "             mood               tense   corpus  \n",
       "1738  subjunctive  present indicative  CFPP200  \n",
       "1739  subjunctive  present indicative  CFPP200  \n",
       "1740  subjunctive  present indicative  CFPP200  \n",
       "1741  subjunctive  present indicative  CFPP200  \n",
       "1742  subjunctive  present indicative  CFPP200  "
      ]
     },
     "execution_count": 15,
     "metadata": {},
     "output_type": "execute_result"
    }
   ],
   "source": [
    "adverbials_df.head(5) #First five\n",
    "adverbials_df.tail(5) #Last five"
   ]
  },
  {
   "cell_type": "markdown",
   "metadata": {},
   "source": [
    "- Saving result as `.csv` file:"
   ]
  },
  {
   "cell_type": "code",
   "execution_count": 16,
   "metadata": {},
   "outputs": [],
   "source": [
    "adverbials_df.to_csv(\"./data/adverbials_df.csv\", encoding='utf-8', header=True, index=False)"
   ]
  }
 ],
 "metadata": {
  "kernelspec": {
   "display_name": "Python 3",
   "language": "python",
   "name": "python3"
  },
  "language_info": {
   "codemirror_mode": {
    "name": "ipython",
    "version": 3
   },
   "file_extension": ".py",
   "mimetype": "text/x-python",
   "name": "python",
   "nbconvert_exporter": "python",
   "pygments_lexer": "ipython3",
   "version": "3.8.3"
  }
 },
 "nbformat": 4,
 "nbformat_minor": 4
}
